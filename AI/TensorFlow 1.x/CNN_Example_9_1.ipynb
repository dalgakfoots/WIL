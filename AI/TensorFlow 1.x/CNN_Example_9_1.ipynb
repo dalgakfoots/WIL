{
  "nbformat": 4,
  "nbformat_minor": 0,
  "metadata": {
    "accelerator": "GPU",
    "colab": {
      "name": "CNN_Example_9_1.ipynb",
      "provenance": [],
      "collapsed_sections": []
    },
    "kernelspec": {
      "display_name": "Python 3",
      "language": "python",
      "name": "python3"
    },
    "language_info": {
      "codemirror_mode": {
        "name": "ipython",
        "version": 3
      },
      "file_extension": ".py",
      "mimetype": "text/x-python",
      "name": "python",
      "nbconvert_exporter": "python",
      "pygments_lexer": "ipython3",
      "version": "3.7.3"
    }
  },
  "cells": [
    {
      "cell_type": "markdown",
      "metadata": {
        "id": "K1QjMlVl4Y8e"
      },
      "source": [
        "[예제 9_1] CNN_Example_9_1\n",
        "\n",
        "1 conv / 1 flatten CNN architecture\n",
        "\n",
        "5 x 5 x 32 filter, padding 있음, 2 x 2 max pooling\n",
        "\n",
        "index_label_prediction list 구현\n",
        "\n",
        "tf.conv2d(..), tf.max_pooling(..) 리턴값에 대한 insight"
      ]
    },
    {
      "cell_type": "code",
      "metadata": {
        "colab": {
          "base_uri": "https://localhost:8080/"
        },
        "id": "d4_8QFFN4Yq5",
        "outputId": "e99f6036-8701-48d1-8d5d-57fbd9c89b10"
      },
      "source": [
        "%tensorflow_version 1.x"
      ],
      "execution_count": 1,
      "outputs": [
        {
          "output_type": "stream",
          "text": [
            "TensorFlow 1.x selected.\n"
          ],
          "name": "stdout"
        }
      ]
    },
    {
      "cell_type": "code",
      "metadata": {
        "colab": {
          "base_uri": "https://localhost:8080/"
        },
        "id": "8vsMvkVe45g5",
        "outputId": "f59a14f5-2e60-47b2-c2c7-33df973df65e"
      },
      "source": [
        "import tensorflow as tf\n",
        "from tensorflow.examples.tutorials.mnist import input_data\n",
        "import numpy as np\n",
        "from datetime import datetime\n",
        "\n",
        "mnist = input_data.read_data_sets(\"MNIST_data/\", one_hot=True)\n",
        "\n",
        "print(\"\")\n",
        "print(\"train.num = \", mnist.train.num_examples, \n",
        "      \", test.num = \", mnist.test.num_examples, \n",
        "      \", validation.num = \", mnist.validation.num_examples) "
      ],
      "execution_count": 2,
      "outputs": [
        {
          "output_type": "stream",
          "text": [
            "WARNING:tensorflow:From <ipython-input-2-026760e93c65>:6: read_data_sets (from tensorflow.contrib.learn.python.learn.datasets.mnist) is deprecated and will be removed in a future version.\n",
            "Instructions for updating:\n",
            "Please use alternatives such as official/mnist/dataset.py from tensorflow/models.\n",
            "WARNING:tensorflow:From /tensorflow-1.15.2/python3.6/tensorflow_core/contrib/learn/python/learn/datasets/mnist.py:260: maybe_download (from tensorflow.contrib.learn.python.learn.datasets.base) is deprecated and will be removed in a future version.\n",
            "Instructions for updating:\n",
            "Please write your own downloading logic.\n",
            "WARNING:tensorflow:From /tensorflow-1.15.2/python3.6/tensorflow_core/contrib/learn/python/learn/datasets/mnist.py:262: extract_images (from tensorflow.contrib.learn.python.learn.datasets.mnist) is deprecated and will be removed in a future version.\n",
            "Instructions for updating:\n",
            "Please use tf.data to implement this functionality.\n",
            "Extracting MNIST_data/train-images-idx3-ubyte.gz\n",
            "WARNING:tensorflow:From /tensorflow-1.15.2/python3.6/tensorflow_core/contrib/learn/python/learn/datasets/mnist.py:267: extract_labels (from tensorflow.contrib.learn.python.learn.datasets.mnist) is deprecated and will be removed in a future version.\n",
            "Instructions for updating:\n",
            "Please use tf.data to implement this functionality.\n",
            "Extracting MNIST_data/train-labels-idx1-ubyte.gz\n",
            "WARNING:tensorflow:From /tensorflow-1.15.2/python3.6/tensorflow_core/contrib/learn/python/learn/datasets/mnist.py:110: dense_to_one_hot (from tensorflow.contrib.learn.python.learn.datasets.mnist) is deprecated and will be removed in a future version.\n",
            "Instructions for updating:\n",
            "Please use tf.one_hot on tensors.\n",
            "Extracting MNIST_data/t10k-images-idx3-ubyte.gz\n",
            "Extracting MNIST_data/t10k-labels-idx1-ubyte.gz\n",
            "WARNING:tensorflow:From /tensorflow-1.15.2/python3.6/tensorflow_core/contrib/learn/python/learn/datasets/mnist.py:290: DataSet.__init__ (from tensorflow.contrib.learn.python.learn.datasets.mnist) is deprecated and will be removed in a future version.\n",
            "Instructions for updating:\n",
            "Please use alternatives such as official/mnist/dataset.py from tensorflow/models.\n",
            "\n",
            "train.num =  55000 , test.num =  10000 , validation.num =  5000\n"
          ],
          "name": "stdout"
        }
      ]
    },
    {
      "cell_type": "code",
      "metadata": {
        "id": "aTTWxdT85gjL"
      },
      "source": [
        "# Hyper-Parameter\n",
        "learning_rate = 0.001  # 학습율\n",
        "epochs = 50            # 반복횟수\n",
        "batch_size = 100      # 한번에 입력으로 주어지는 MNIST 개수"
      ],
      "execution_count": 3,
      "outputs": []
    },
    {
      "cell_type": "code",
      "metadata": {
        "id": "XwaglZAw54ER"
      },
      "source": [
        "# 입력과 출력을 위한 플레이스홀더 정의\n",
        "\n",
        "X = tf.placeholder(tf.float32, [None, 784])  \n",
        "T = tf.placeholder(tf.float32, [None, 10])  \n",
        "\n",
        "# 입력층의 출력 값, 컨볼루션 연산을 위해 reshape 시킴\n",
        "A1 = X_img = tf.reshape(X, [-1, 28, 28, 1])   # image 28 x 28 x 1 (black/white)"
      ],
      "execution_count": 4,
      "outputs": []
    },
    {
      "cell_type": "code",
      "metadata": {
        "id": "eShGy8Nb6ctx"
      },
      "source": [
        "# 1번째 컨볼루션 층, 3X3X32 필터\n",
        "F2 = tf.Variable(tf.random_normal([3, 3, 1, 32], stddev=0.01))  \n",
        "b2 = tf.Variable(tf.constant(0.1, shape=[32]))  \n",
        "\n",
        "# 1번째 컨볼루션 연산을 통해 28 X 28 X1  => 28 X 28 X 32 \n",
        "C2 = tf.nn.conv2d(A1, F2, strides=[1, 1, 1, 1], padding='SAME')\n",
        "\n",
        "# relu\n",
        "Z2 = tf.nn.relu(C2+b2)\n",
        "\n",
        "# 1번째 max pooling을 통해 28 X 28 X 32  => 14 X 14 X 32 \n",
        "A2 = P2 = tf.nn.max_pool(Z2, ksize=[1, 2, 2, 1], strides=[1, 2, 2, 1], padding='SAME')"
      ],
      "execution_count": 5,
      "outputs": []
    },
    {
      "cell_type": "code",
      "metadata": {
        "id": "8si7scby61Ww"
      },
      "source": [
        "# 14X14 크기를 가진 32개의 activation map을 flatten 시킴\n",
        "A2_flat = P2_flat = tf.reshape(A2, [-1, 14*14*32])"
      ],
      "execution_count": 6,
      "outputs": []
    },
    {
      "cell_type": "code",
      "metadata": {
        "id": "2r8jSFT67UIC"
      },
      "source": [
        "# 출력층\n",
        "W3 = tf.Variable(tf.random_normal([14*14*32, 10], stddev=0.01))\n",
        "b3 = tf.Variable(tf.random_normal([10]))\n",
        "\n",
        "# 출력층 선형회귀  값 Z3, 즉 softmax 에 들어가는 입력 값\n",
        "Z3 = logits = tf.matmul(A2_flat, W3) + b3    # 선형회귀 값 Z3\n",
        "\n",
        "y = A3 = tf.nn.softmax(Z3)"
      ],
      "execution_count": 7,
      "outputs": []
    },
    {
      "cell_type": "code",
      "metadata": {
        "id": "2-i1Pgp97d6K"
      },
      "source": [
        "loss = tf.reduce_mean( tf.nn.softmax_cross_entropy_with_logits_v2(logits=Z3, labels=T) )\n",
        "\n",
        "optimizer = tf.train.AdamOptimizer(learning_rate)\n",
        "\n",
        "train = optimizer.minimize(loss)  "
      ],
      "execution_count": 8,
      "outputs": []
    },
    {
      "cell_type": "code",
      "metadata": {
        "id": "q4lMip_D7iI1"
      },
      "source": [
        "# batch_size X 10 데이터에 대해 argmax를 통해 행단위로 비교함\n",
        "predicted_val = tf.equal( tf.argmax(A3, 1), tf.argmax(T, 1) )\n",
        "\n",
        "# batch_size X 10 의 True, False 를 1 또는 0 으로 변환\n",
        "accuracy = tf.reduce_mean(tf.cast(predicted_val, dtype=tf.float32))\n",
        "\n",
        "# index list 출력\n",
        "accuracy_index = tf.cast(predicted_val, dtype=tf.float32)\n",
        "\n",
        "# 예측값 처리\n",
        "predicted_list = tf.argmax(A3, 1)"
      ],
      "execution_count": 9,
      "outputs": []
    },
    {
      "cell_type": "code",
      "metadata": {
        "colab": {
          "base_uri": "https://localhost:8080/"
        },
        "id": "HHeMifOe7nKF",
        "outputId": "1e176e8c-b4da-4c6a-d7b2-5542af9d2001"
      },
      "source": [
        "index_label_prediction_list = []\n",
        "filter_ret_val_list = []\n",
        "conv_ret_val_list = []\n",
        "pooling_ret_val_list = []\n",
        "\n",
        "with  tf.Session()  as sess:\n",
        "    \n",
        "    sess.run(tf.global_variables_initializer())  # 변수 노드(tf.Variable) 초기화\n",
        "    \n",
        "    start_time = datetime.now()\n",
        "    \n",
        "    for i in range(epochs):    \n",
        "        \n",
        "        total_batch = int(mnist.train.num_examples / batch_size)  # 55,000 / 100\n",
        "\n",
        "        for step in range(total_batch):\n",
        "            \n",
        "            batch_x_data, batch_t_data = mnist.train.next_batch(batch_size)\n",
        "      \n",
        "            loss_val, _ = sess.run([loss, train], feed_dict={X: batch_x_data, T: batch_t_data})    \n",
        "        \n",
        "            if step % 100 == 0:\n",
        "                print(\"epochs = \", i, \", step = \", step, \", loss_val = \", loss_val)             \n",
        "    \n",
        "    end_time = datetime.now() \n",
        "    \n",
        "    print(\"\\nelapsed time = \", end_time - start_time) \n",
        "    \n",
        "    # Accuracy 확인\n",
        "    test_x_data = mnist.test.images    # 10000 X 784\n",
        "    test_t_data = mnist.test.labels    # 10000 X 10\n",
        "    \n",
        "    accuracy_val, predicted_list_val, index_label = sess.run([accuracy, predicted_list, accuracy_index], feed_dict={X: test_x_data, T: test_t_data})\n",
        "            \n",
        "        \n",
        "    print('================================================================================')\n",
        "    F2_ret_val, C2_ret_val, A2_ret_val = sess.run([F2, C2, A2], feed_dict={X: test_x_data, T: test_t_data})\n",
        "    \n",
        "    filter_ret_val_list.append(F2_ret_val)   # filter on 1st conv layer\n",
        "    conv_ret_val_list.append(C2_ret_val)     # conv on 1st conv layer\n",
        "    pooling_ret_val_list.append(A2_ret_val)  # max pooling on 1st conv layer \n",
        "    \n",
        "    print('F2_ret_val.shape = ', F2_ret_val.shape, ', C2_ret_val.shape = ', C2_ret_val.shape, ', A2_ret_val.shape = ', A2_ret_val.shape)\n",
        "    print('================================================================================')\n",
        "    \n",
        "    print(\"\\nAccuracy = \", accuracy_val)\n",
        "    print(\"type(accuracy_val) = \", type(accuracy_val), ', type(predicted_list_val) = ', type(predicted_list_val), ', type(index_label) = ', type(index_label))\n",
        "    print(\"index_label.shape = \", index_label.shape)\n",
        "    \n",
        "    index_label_list = list(index_label)\n",
        "    print(\"length of index_label_list = \", len(index_label_list))\n",
        "    print(\"false label count = \", index_label_list.count([0]))\n",
        "        \n",
        "    temp_list = [] \n",
        "    \n",
        "    for index in range(len(index_label)):\n",
        "        \n",
        "        if index_label[index] == 0:\n",
        "            \n",
        "            temp_list.append(index)\n",
        "            temp_list.append(np.argmax(test_t_data[index]))  # one-hot encoding 이므로 argmax 로 정답 추출\n",
        "            temp_list.append(predicted_list_val[index])\n",
        "            \n",
        "            index_label_prediction_list.append(temp_list)\n",
        "            \n",
        "            temp_list = []\n",
        "            \n",
        "    print(\"\\nlength of index_label_false_list\", len(index_label_prediction_list))"
      ],
      "execution_count": 10,
      "outputs": [
        {
          "output_type": "stream",
          "text": [
            "epochs =  0 , step =  0 , loss_val =  2.5762124\n",
            "epochs =  0 , step =  100 , loss_val =  0.6581081\n",
            "epochs =  0 , step =  200 , loss_val =  0.44152617\n",
            "epochs =  0 , step =  300 , loss_val =  0.37735814\n",
            "epochs =  0 , step =  400 , loss_val =  0.18906388\n",
            "epochs =  0 , step =  500 , loss_val =  0.19464888\n",
            "epochs =  1 , step =  0 , loss_val =  0.25122905\n",
            "epochs =  1 , step =  100 , loss_val =  0.2299586\n",
            "epochs =  1 , step =  200 , loss_val =  0.12121203\n",
            "epochs =  1 , step =  300 , loss_val =  0.1915628\n",
            "epochs =  1 , step =  400 , loss_val =  0.22175512\n",
            "epochs =  1 , step =  500 , loss_val =  0.12372998\n",
            "epochs =  2 , step =  0 , loss_val =  0.16582331\n",
            "epochs =  2 , step =  100 , loss_val =  0.26039526\n",
            "epochs =  2 , step =  200 , loss_val =  0.074432366\n",
            "epochs =  2 , step =  300 , loss_val =  0.062217336\n",
            "epochs =  2 , step =  400 , loss_val =  0.11221672\n",
            "epochs =  2 , step =  500 , loss_val =  0.091658734\n",
            "epochs =  3 , step =  0 , loss_val =  0.107487686\n",
            "epochs =  3 , step =  100 , loss_val =  0.0712694\n",
            "epochs =  3 , step =  200 , loss_val =  0.1563442\n",
            "epochs =  3 , step =  300 , loss_val =  0.051967062\n",
            "epochs =  3 , step =  400 , loss_val =  0.053516455\n",
            "epochs =  3 , step =  500 , loss_val =  0.09082305\n",
            "epochs =  4 , step =  0 , loss_val =  0.11318393\n",
            "epochs =  4 , step =  100 , loss_val =  0.12413177\n",
            "epochs =  4 , step =  200 , loss_val =  0.053486366\n",
            "epochs =  4 , step =  300 , loss_val =  0.06742003\n",
            "epochs =  4 , step =  400 , loss_val =  0.042378772\n",
            "epochs =  4 , step =  500 , loss_val =  0.06396836\n",
            "epochs =  5 , step =  0 , loss_val =  0.02785464\n",
            "epochs =  5 , step =  100 , loss_val =  0.015189491\n",
            "epochs =  5 , step =  200 , loss_val =  0.034277186\n",
            "epochs =  5 , step =  300 , loss_val =  0.054320563\n",
            "epochs =  5 , step =  400 , loss_val =  0.11658288\n",
            "epochs =  5 , step =  500 , loss_val =  0.02863995\n",
            "epochs =  6 , step =  0 , loss_val =  0.03535072\n",
            "epochs =  6 , step =  100 , loss_val =  0.03906659\n",
            "epochs =  6 , step =  200 , loss_val =  0.10845743\n",
            "epochs =  6 , step =  300 , loss_val =  0.043800887\n",
            "epochs =  6 , step =  400 , loss_val =  0.058948312\n",
            "epochs =  6 , step =  500 , loss_val =  0.08544578\n",
            "epochs =  7 , step =  0 , loss_val =  0.03945263\n",
            "epochs =  7 , step =  100 , loss_val =  0.025792131\n",
            "epochs =  7 , step =  200 , loss_val =  0.016403494\n",
            "epochs =  7 , step =  300 , loss_val =  0.14246446\n",
            "epochs =  7 , step =  400 , loss_val =  0.024798522\n",
            "epochs =  7 , step =  500 , loss_val =  0.051537544\n",
            "epochs =  8 , step =  0 , loss_val =  0.009672951\n",
            "epochs =  8 , step =  100 , loss_val =  0.11299647\n",
            "epochs =  8 , step =  200 , loss_val =  0.063415624\n",
            "epochs =  8 , step =  300 , loss_val =  0.13150875\n",
            "epochs =  8 , step =  400 , loss_val =  0.10084701\n",
            "epochs =  8 , step =  500 , loss_val =  0.025170349\n",
            "epochs =  9 , step =  0 , loss_val =  0.047076605\n",
            "epochs =  9 , step =  100 , loss_val =  0.024333488\n",
            "epochs =  9 , step =  200 , loss_val =  0.032366253\n",
            "epochs =  9 , step =  300 , loss_val =  0.11209853\n",
            "epochs =  9 , step =  400 , loss_val =  0.08069274\n",
            "epochs =  9 , step =  500 , loss_val =  0.04071918\n",
            "epochs =  10 , step =  0 , loss_val =  0.070653275\n",
            "epochs =  10 , step =  100 , loss_val =  0.054357357\n",
            "epochs =  10 , step =  200 , loss_val =  0.0064020324\n",
            "epochs =  10 , step =  300 , loss_val =  0.041889172\n",
            "epochs =  10 , step =  400 , loss_val =  0.037967235\n",
            "epochs =  10 , step =  500 , loss_val =  0.08250063\n",
            "epochs =  11 , step =  0 , loss_val =  0.01528621\n",
            "epochs =  11 , step =  100 , loss_val =  0.06333689\n",
            "epochs =  11 , step =  200 , loss_val =  0.010631318\n",
            "epochs =  11 , step =  300 , loss_val =  0.0066358973\n",
            "epochs =  11 , step =  400 , loss_val =  0.031213546\n",
            "epochs =  11 , step =  500 , loss_val =  0.021691184\n",
            "epochs =  12 , step =  0 , loss_val =  0.009102673\n",
            "epochs =  12 , step =  100 , loss_val =  0.055453077\n",
            "epochs =  12 , step =  200 , loss_val =  0.056885652\n",
            "epochs =  12 , step =  300 , loss_val =  0.014405977\n",
            "epochs =  12 , step =  400 , loss_val =  0.010692082\n",
            "epochs =  12 , step =  500 , loss_val =  0.016324462\n",
            "epochs =  13 , step =  0 , loss_val =  0.028763603\n",
            "epochs =  13 , step =  100 , loss_val =  0.05427948\n",
            "epochs =  13 , step =  200 , loss_val =  0.119047605\n",
            "epochs =  13 , step =  300 , loss_val =  0.075579\n",
            "epochs =  13 , step =  400 , loss_val =  0.021496048\n",
            "epochs =  13 , step =  500 , loss_val =  0.0063247005\n",
            "epochs =  14 , step =  0 , loss_val =  0.054713875\n",
            "epochs =  14 , step =  100 , loss_val =  0.01489743\n",
            "epochs =  14 , step =  200 , loss_val =  0.009031076\n",
            "epochs =  14 , step =  300 , loss_val =  0.005812822\n",
            "epochs =  14 , step =  400 , loss_val =  0.020454688\n",
            "epochs =  14 , step =  500 , loss_val =  0.01124092\n",
            "epochs =  15 , step =  0 , loss_val =  0.013187775\n",
            "epochs =  15 , step =  100 , loss_val =  0.0049249586\n",
            "epochs =  15 , step =  200 , loss_val =  0.06438888\n",
            "epochs =  15 , step =  300 , loss_val =  0.01719154\n",
            "epochs =  15 , step =  400 , loss_val =  0.02049804\n",
            "epochs =  15 , step =  500 , loss_val =  0.108031034\n",
            "epochs =  16 , step =  0 , loss_val =  0.03135157\n",
            "epochs =  16 , step =  100 , loss_val =  0.02006617\n",
            "epochs =  16 , step =  200 , loss_val =  0.016154572\n",
            "epochs =  16 , step =  300 , loss_val =  0.010837477\n",
            "epochs =  16 , step =  400 , loss_val =  0.053693242\n",
            "epochs =  16 , step =  500 , loss_val =  0.026154304\n",
            "epochs =  17 , step =  0 , loss_val =  0.034961585\n",
            "epochs =  17 , step =  100 , loss_val =  0.021965723\n",
            "epochs =  17 , step =  200 , loss_val =  0.021796158\n",
            "epochs =  17 , step =  300 , loss_val =  0.03604798\n",
            "epochs =  17 , step =  400 , loss_val =  0.0151646165\n",
            "epochs =  17 , step =  500 , loss_val =  0.02006318\n",
            "epochs =  18 , step =  0 , loss_val =  0.006376494\n",
            "epochs =  18 , step =  100 , loss_val =  0.004748944\n",
            "epochs =  18 , step =  200 , loss_val =  0.009562034\n",
            "epochs =  18 , step =  300 , loss_val =  0.011317657\n",
            "epochs =  18 , step =  400 , loss_val =  0.03954936\n",
            "epochs =  18 , step =  500 , loss_val =  0.047911763\n",
            "epochs =  19 , step =  0 , loss_val =  0.024440218\n",
            "epochs =  19 , step =  100 , loss_val =  0.007859552\n",
            "epochs =  19 , step =  200 , loss_val =  0.04313312\n",
            "epochs =  19 , step =  300 , loss_val =  0.022417817\n",
            "epochs =  19 , step =  400 , loss_val =  0.012797853\n",
            "epochs =  19 , step =  500 , loss_val =  0.006763385\n",
            "epochs =  20 , step =  0 , loss_val =  0.021719629\n",
            "epochs =  20 , step =  100 , loss_val =  0.0073788776\n",
            "epochs =  20 , step =  200 , loss_val =  0.012342253\n",
            "epochs =  20 , step =  300 , loss_val =  0.020757306\n",
            "epochs =  20 , step =  400 , loss_val =  0.023150658\n",
            "epochs =  20 , step =  500 , loss_val =  0.006437734\n",
            "epochs =  21 , step =  0 , loss_val =  0.00857587\n",
            "epochs =  21 , step =  100 , loss_val =  0.01912091\n",
            "epochs =  21 , step =  200 , loss_val =  0.012006062\n",
            "epochs =  21 , step =  300 , loss_val =  0.0015661016\n",
            "epochs =  21 , step =  400 , loss_val =  0.019817563\n",
            "epochs =  21 , step =  500 , loss_val =  0.016826158\n",
            "epochs =  22 , step =  0 , loss_val =  0.008109177\n",
            "epochs =  22 , step =  100 , loss_val =  0.005771007\n",
            "epochs =  22 , step =  200 , loss_val =  0.022295022\n",
            "epochs =  22 , step =  300 , loss_val =  0.0017329438\n",
            "epochs =  22 , step =  400 , loss_val =  0.008206225\n",
            "epochs =  22 , step =  500 , loss_val =  0.0066566397\n",
            "epochs =  23 , step =  0 , loss_val =  0.014457557\n",
            "epochs =  23 , step =  100 , loss_val =  0.007236463\n",
            "epochs =  23 , step =  200 , loss_val =  0.0016697783\n",
            "epochs =  23 , step =  300 , loss_val =  0.004077095\n",
            "epochs =  23 , step =  400 , loss_val =  0.06362741\n",
            "epochs =  23 , step =  500 , loss_val =  0.0090115415\n",
            "epochs =  24 , step =  0 , loss_val =  0.023035875\n",
            "epochs =  24 , step =  100 , loss_val =  0.007014491\n",
            "epochs =  24 , step =  200 , loss_val =  0.003089707\n",
            "epochs =  24 , step =  300 , loss_val =  0.013054868\n",
            "epochs =  24 , step =  400 , loss_val =  0.011774123\n",
            "epochs =  24 , step =  500 , loss_val =  0.011582324\n",
            "epochs =  25 , step =  0 , loss_val =  0.026284311\n",
            "epochs =  25 , step =  100 , loss_val =  0.009901774\n",
            "epochs =  25 , step =  200 , loss_val =  0.008056831\n",
            "epochs =  25 , step =  300 , loss_val =  0.00735731\n",
            "epochs =  25 , step =  400 , loss_val =  0.0077783805\n",
            "epochs =  25 , step =  500 , loss_val =  0.0034815136\n",
            "epochs =  26 , step =  0 , loss_val =  0.008594377\n",
            "epochs =  26 , step =  100 , loss_val =  0.009370056\n",
            "epochs =  26 , step =  200 , loss_val =  0.00892533\n",
            "epochs =  26 , step =  300 , loss_val =  0.0025156122\n",
            "epochs =  26 , step =  400 , loss_val =  0.0030702197\n",
            "epochs =  26 , step =  500 , loss_val =  0.008526867\n",
            "epochs =  27 , step =  0 , loss_val =  0.0038599444\n",
            "epochs =  27 , step =  100 , loss_val =  0.010416146\n",
            "epochs =  27 , step =  200 , loss_val =  0.0010139355\n",
            "epochs =  27 , step =  300 , loss_val =  0.0031447378\n",
            "epochs =  27 , step =  400 , loss_val =  0.007418949\n",
            "epochs =  27 , step =  500 , loss_val =  0.008558929\n",
            "epochs =  28 , step =  0 , loss_val =  0.001554263\n",
            "epochs =  28 , step =  100 , loss_val =  0.0016410749\n",
            "epochs =  28 , step =  200 , loss_val =  0.007149879\n",
            "epochs =  28 , step =  300 , loss_val =  0.0015529655\n",
            "epochs =  28 , step =  400 , loss_val =  0.009991857\n",
            "epochs =  28 , step =  500 , loss_val =  0.011996635\n",
            "epochs =  29 , step =  0 , loss_val =  0.0049680425\n",
            "epochs =  29 , step =  100 , loss_val =  0.002063556\n",
            "epochs =  29 , step =  200 , loss_val =  0.004493383\n",
            "epochs =  29 , step =  300 , loss_val =  0.010420916\n",
            "epochs =  29 , step =  400 , loss_val =  0.006565437\n",
            "epochs =  29 , step =  500 , loss_val =  0.0019001567\n",
            "epochs =  30 , step =  0 , loss_val =  0.004765289\n",
            "epochs =  30 , step =  100 , loss_val =  0.004888865\n",
            "epochs =  30 , step =  200 , loss_val =  0.001139113\n",
            "epochs =  30 , step =  300 , loss_val =  0.0036263762\n",
            "epochs =  30 , step =  400 , loss_val =  0.008651387\n",
            "epochs =  30 , step =  500 , loss_val =  0.0032481318\n",
            "epochs =  31 , step =  0 , loss_val =  0.00733452\n",
            "epochs =  31 , step =  100 , loss_val =  0.0042575547\n",
            "epochs =  31 , step =  200 , loss_val =  0.003199433\n",
            "epochs =  31 , step =  300 , loss_val =  0.0008509427\n",
            "epochs =  31 , step =  400 , loss_val =  0.019066844\n",
            "epochs =  31 , step =  500 , loss_val =  0.002711269\n",
            "epochs =  32 , step =  0 , loss_val =  0.0009318104\n",
            "epochs =  32 , step =  100 , loss_val =  0.0012398858\n",
            "epochs =  32 , step =  200 , loss_val =  0.0025919292\n",
            "epochs =  32 , step =  300 , loss_val =  0.003342702\n",
            "epochs =  32 , step =  400 , loss_val =  0.0014554423\n",
            "epochs =  32 , step =  500 , loss_val =  0.0087342635\n",
            "epochs =  33 , step =  0 , loss_val =  0.00614797\n",
            "epochs =  33 , step =  100 , loss_val =  0.0014709384\n",
            "epochs =  33 , step =  200 , loss_val =  0.0036716973\n",
            "epochs =  33 , step =  300 , loss_val =  0.0023009023\n",
            "epochs =  33 , step =  400 , loss_val =  0.0016351847\n",
            "epochs =  33 , step =  500 , loss_val =  0.023911374\n",
            "epochs =  34 , step =  0 , loss_val =  0.013820546\n",
            "epochs =  34 , step =  100 , loss_val =  0.0071003074\n",
            "epochs =  34 , step =  200 , loss_val =  0.0050838348\n",
            "epochs =  34 , step =  300 , loss_val =  0.0029554944\n",
            "epochs =  34 , step =  400 , loss_val =  0.0043721776\n",
            "epochs =  34 , step =  500 , loss_val =  0.0033554777\n",
            "epochs =  35 , step =  0 , loss_val =  0.0015920503\n",
            "epochs =  35 , step =  100 , loss_val =  0.003457926\n",
            "epochs =  35 , step =  200 , loss_val =  0.0024099494\n",
            "epochs =  35 , step =  300 , loss_val =  0.003797758\n",
            "epochs =  35 , step =  400 , loss_val =  0.0008858674\n",
            "epochs =  35 , step =  500 , loss_val =  0.0007711853\n",
            "epochs =  36 , step =  0 , loss_val =  0.0013769115\n",
            "epochs =  36 , step =  100 , loss_val =  0.004842574\n",
            "epochs =  36 , step =  200 , loss_val =  0.005202108\n",
            "epochs =  36 , step =  300 , loss_val =  0.0003895139\n",
            "epochs =  36 , step =  400 , loss_val =  0.0028802468\n",
            "epochs =  36 , step =  500 , loss_val =  0.003954539\n",
            "epochs =  37 , step =  0 , loss_val =  0.001448055\n",
            "epochs =  37 , step =  100 , loss_val =  0.0030715668\n",
            "epochs =  37 , step =  200 , loss_val =  0.0011640902\n",
            "epochs =  37 , step =  300 , loss_val =  0.00052987586\n",
            "epochs =  37 , step =  400 , loss_val =  0.008776876\n",
            "epochs =  37 , step =  500 , loss_val =  0.0006506898\n",
            "epochs =  38 , step =  0 , loss_val =  0.0032598726\n",
            "epochs =  38 , step =  100 , loss_val =  0.0030585444\n",
            "epochs =  38 , step =  200 , loss_val =  0.0019340259\n",
            "epochs =  38 , step =  300 , loss_val =  0.0014417598\n",
            "epochs =  38 , step =  400 , loss_val =  0.0032786315\n",
            "epochs =  38 , step =  500 , loss_val =  0.003545725\n",
            "epochs =  39 , step =  0 , loss_val =  0.0038828463\n",
            "epochs =  39 , step =  100 , loss_val =  0.00058567035\n",
            "epochs =  39 , step =  200 , loss_val =  0.0013599535\n",
            "epochs =  39 , step =  300 , loss_val =  0.0025495407\n",
            "epochs =  39 , step =  400 , loss_val =  0.003284891\n",
            "epochs =  39 , step =  500 , loss_val =  0.0014927622\n",
            "epochs =  40 , step =  0 , loss_val =  0.0015697103\n",
            "epochs =  40 , step =  100 , loss_val =  0.0012312372\n",
            "epochs =  40 , step =  200 , loss_val =  0.0022984627\n",
            "epochs =  40 , step =  300 , loss_val =  0.0011847242\n",
            "epochs =  40 , step =  400 , loss_val =  0.00018986626\n",
            "epochs =  40 , step =  500 , loss_val =  0.0064020203\n",
            "epochs =  41 , step =  0 , loss_val =  0.00094174425\n",
            "epochs =  41 , step =  100 , loss_val =  0.0001369228\n",
            "epochs =  41 , step =  200 , loss_val =  0.00037646762\n",
            "epochs =  41 , step =  300 , loss_val =  0.0022761994\n",
            "epochs =  41 , step =  400 , loss_val =  0.004516132\n",
            "epochs =  41 , step =  500 , loss_val =  0.006119205\n",
            "epochs =  42 , step =  0 , loss_val =  0.00087055116\n",
            "epochs =  42 , step =  100 , loss_val =  0.0011375978\n",
            "epochs =  42 , step =  200 , loss_val =  0.00030716113\n",
            "epochs =  42 , step =  300 , loss_val =  0.0030060806\n",
            "epochs =  42 , step =  400 , loss_val =  0.005377883\n",
            "epochs =  42 , step =  500 , loss_val =  0.0013587284\n",
            "epochs =  43 , step =  0 , loss_val =  0.00064362754\n",
            "epochs =  43 , step =  100 , loss_val =  0.0010910917\n",
            "epochs =  43 , step =  200 , loss_val =  0.0008880595\n",
            "epochs =  43 , step =  300 , loss_val =  0.0004989014\n",
            "epochs =  43 , step =  400 , loss_val =  0.0002333369\n",
            "epochs =  43 , step =  500 , loss_val =  0.0005459871\n",
            "epochs =  44 , step =  0 , loss_val =  0.00057883817\n",
            "epochs =  44 , step =  100 , loss_val =  0.00015227031\n",
            "epochs =  44 , step =  200 , loss_val =  0.00095348974\n",
            "epochs =  44 , step =  300 , loss_val =  0.0009211018\n",
            "epochs =  44 , step =  400 , loss_val =  0.0005376104\n",
            "epochs =  44 , step =  500 , loss_val =  0.00023642693\n",
            "epochs =  45 , step =  0 , loss_val =  0.002473674\n",
            "epochs =  45 , step =  100 , loss_val =  0.000772175\n",
            "epochs =  45 , step =  200 , loss_val =  0.00034556902\n",
            "epochs =  45 , step =  300 , loss_val =  0.0013554743\n",
            "epochs =  45 , step =  400 , loss_val =  0.0024227758\n",
            "epochs =  45 , step =  500 , loss_val =  0.0005856076\n",
            "epochs =  46 , step =  0 , loss_val =  0.0022693444\n",
            "epochs =  46 , step =  100 , loss_val =  0.00046022766\n",
            "epochs =  46 , step =  200 , loss_val =  0.004171284\n",
            "epochs =  46 , step =  300 , loss_val =  0.0024106964\n",
            "epochs =  46 , step =  400 , loss_val =  0.007954797\n",
            "epochs =  46 , step =  500 , loss_val =  0.0019130283\n",
            "epochs =  47 , step =  0 , loss_val =  0.001348716\n",
            "epochs =  47 , step =  100 , loss_val =  0.0005355412\n",
            "epochs =  47 , step =  200 , loss_val =  0.0006651927\n",
            "epochs =  47 , step =  300 , loss_val =  0.00053750054\n",
            "epochs =  47 , step =  400 , loss_val =  0.00016369988\n",
            "epochs =  47 , step =  500 , loss_val =  0.00048467555\n",
            "epochs =  48 , step =  0 , loss_val =  0.0064224466\n",
            "epochs =  48 , step =  100 , loss_val =  0.00073585747\n",
            "epochs =  48 , step =  200 , loss_val =  0.007070448\n",
            "epochs =  48 , step =  300 , loss_val =  0.005890196\n",
            "epochs =  48 , step =  400 , loss_val =  0.00020358524\n",
            "epochs =  48 , step =  500 , loss_val =  0.002737027\n",
            "epochs =  49 , step =  0 , loss_val =  0.006219925\n",
            "epochs =  49 , step =  100 , loss_val =  0.00017759863\n",
            "epochs =  49 , step =  200 , loss_val =  0.00093786925\n",
            "epochs =  49 , step =  300 , loss_val =  0.0004846724\n",
            "epochs =  49 , step =  400 , loss_val =  0.00064477354\n",
            "epochs =  49 , step =  500 , loss_val =  0.0038323218\n",
            "\n",
            "elapsed time =  0:01:13.558847\n",
            "================================================================================\n",
            "F2_ret_val.shape =  (3, 3, 1, 32) , C2_ret_val.shape =  (10000, 28, 28, 32) , A2_ret_val.shape =  (10000, 14, 14, 32)\n",
            "================================================================================\n",
            "\n",
            "Accuracy =  0.9815\n",
            "type(accuracy_val) =  <class 'numpy.float32'> , type(predicted_list_val) =  <class 'numpy.ndarray'> , type(index_label) =  <class 'numpy.ndarray'>\n",
            "index_label.shape =  (10000,)\n",
            "length of index_label_list =  10000\n",
            "false label count =  185\n",
            "\n",
            "length of index_label_false_list 185\n"
          ],
          "name": "stdout"
        }
      ]
    },
    {
      "cell_type": "code",
      "metadata": {
        "colab": {
          "base_uri": "https://localhost:8080/"
        },
        "id": "74xULKC78SCu",
        "outputId": "9c402fed-863a-4a9b-9faa-c34bd204bfab"
      },
      "source": [
        "# index_label_prediction_list\n",
        "print(index_label_prediction_list)"
      ],
      "execution_count": 11,
      "outputs": [
        {
          "output_type": "stream",
          "text": [
            "[[247, 4, 6], [259, 6, 0], [321, 2, 7], [340, 5, 3], [394, 9, 7], [445, 6, 0], [449, 3, 5], [582, 8, 3], [583, 2, 7], [659, 2, 1], [674, 5, 3], [717, 0, 6], [720, 5, 8], [882, 9, 7], [895, 0, 8], [947, 8, 9], [965, 6, 0], [1014, 6, 5], [1039, 7, 2], [1112, 4, 6], [1226, 7, 2], [1232, 9, 4], [1242, 4, 9], [1247, 9, 0], [1260, 7, 1], [1319, 8, 0], [1326, 7, 2], [1393, 5, 3], [1530, 8, 7], [1549, 4, 6], [1553, 9, 8], [1554, 9, 7], [1570, 0, 6], [1597, 9, 7], [1621, 0, 6], [1654, 2, 1], [1678, 2, 0], [1709, 9, 5], [1722, 2, 7], [1737, 5, 3], [1754, 7, 2], [1790, 2, 7], [1828, 3, 7], [1878, 8, 3], [1901, 9, 4], [2004, 8, 9], [2035, 5, 3], [2043, 4, 8], [2053, 4, 9], [2109, 3, 7], [2118, 6, 0], [2130, 4, 9], [2135, 6, 1], [2224, 5, 8], [2225, 8, 3], [2266, 1, 4], [2293, 9, 0], [2329, 0, 2], [2369, 5, 8], [2387, 9, 1], [2406, 9, 4], [2462, 2, 0], [2582, 9, 7], [2597, 5, 9], [2654, 6, 1], [2720, 9, 4], [2760, 9, 4], [2771, 4, 9], [2778, 4, 0], [2896, 8, 0], [2921, 3, 8], [2927, 3, 7], [2930, 5, 7], [2939, 9, 5], [2953, 3, 5], [2995, 6, 8], [3030, 6, 0], [3060, 9, 7], [3062, 8, 3], [3073, 1, 2], [3122, 7, 2], [3172, 4, 9], [3330, 2, 8], [3384, 2, 6], [3441, 7, 8], [3503, 9, 1], [3520, 6, 4], [3558, 5, 0], [3559, 8, 0], [3597, 9, 3], [3626, 8, 3], [3727, 8, 9], [3749, 6, 0], [3751, 7, 2], [3801, 6, 0], [3808, 7, 8], [3838, 7, 8], [3850, 9, 4], [3853, 6, 8], [3902, 5, 3], [3906, 1, 3], [3939, 6, 0], [4007, 7, 4], [4075, 8, 0], [4078, 9, 3], [4156, 2, 3], [4176, 2, 7], [4199, 7, 9], [4201, 1, 7], [4224, 9, 7], [4238, 7, 3], [4248, 2, 1], [4265, 4, 7], [4269, 4, 6], [4425, 9, 4], [4500, 9, 1], [4548, 5, 6], [4601, 8, 7], [4740, 3, 5], [4783, 4, 9], [4807, 8, 0], [4814, 6, 0], [4978, 8, 7], [5159, 4, 9], [5201, 4, 9], [5228, 6, 4], [5634, 2, 8], [5642, 1, 5], [5676, 4, 1], [5734, 3, 7], [5749, 8, 2], [5888, 4, 0], [5937, 5, 3], [5955, 3, 8], [6071, 9, 3], [6091, 9, 5], [6093, 2, 8], [6166, 9, 3], [6168, 9, 3], [6173, 9, 8], [6505, 9, 0], [6532, 0, 5], [6571, 9, 7], [6576, 7, 1], [6597, 0, 3], [6632, 9, 5], [6651, 0, 8], [6740, 9, 0], [6847, 6, 4], [7081, 9, 7], [7430, 5, 3], [8059, 2, 1], [8094, 2, 1], [8102, 2, 1], [8246, 3, 9], [8277, 3, 8], [8408, 8, 5], [9009, 7, 2], [9015, 7, 2], [9024, 7, 2], [9069, 9, 4], [9214, 9, 7], [9540, 1, 8], [9587, 9, 4], [9620, 9, 5], [9634, 0, 2], [9638, 9, 7], [9642, 9, 7], [9664, 2, 7], [9679, 6, 3], [9698, 6, 1], [9713, 9, 7], [9729, 5, 6], [9733, 9, 7], [9740, 9, 7], [9741, 9, 7], [9749, 5, 6], [9751, 2, 3], [9768, 2, 9], [9770, 5, 0], [9839, 2, 3], [9850, 0, 8], [9891, 9, 3], [9905, 3, 7], [9982, 5, 6]]\n"
          ],
          "name": "stdout"
        }
      ]
    },
    {
      "cell_type": "code",
      "metadata": {
        "id": "2oPIDq11B6Ph"
      },
      "source": [
        "import numpy as np\n",
        "import matplotlib.pyplot as plt\n",
        "%matplotlib inline"
      ],
      "execution_count": 12,
      "outputs": []
    },
    {
      "cell_type": "code",
      "metadata": {
        "colab": {
          "base_uri": "https://localhost:8080/",
          "height": 298
        },
        "id": "iPMaKxiSCCR4",
        "outputId": "05cd8c9c-ae40-4b3c-90af-1c278ab7f959"
      },
      "source": [
        "false_data_index = np.random.randint(len(index_label_prediction_list))\n",
        "\n",
        "print('len of index_label_prediction_list => ', len(index_label_prediction_list), ', false_data_index => ', false_data_index)\n",
        "\n",
        "mnist_index = index_label_prediction_list[false_data_index][0]\n",
        "label = index_label_prediction_list[false_data_index][1]\n",
        "prediction = index_label_prediction_list[false_data_index][2]\n",
        "\n",
        "title_str = 'index = ' + str(mnist_index) + ' , label = ' + str(label) + ' , prediction = ' + str(prediction)\n",
        "\n",
        "img = test_x_data[mnist_index].reshape(28,28)\n",
        "\n",
        "\n",
        "plt.title(title_str)\n",
        "plt.imshow(img, cmap='gray')\n",
        "plt.show()"
      ],
      "execution_count": 13,
      "outputs": [
        {
          "output_type": "stream",
          "text": [
            "len of index_label_prediction_list =>  185 , false_data_index =>  75\n"
          ],
          "name": "stdout"
        },
        {
          "output_type": "display_data",
          "data": {
            "image/png": "[encoded data removed]",
            "text/plain": [
              "<Figure size 432x288 with 1 Axes>"
            ]
          },
          "metadata": {
            "tags": [],
            "needs_background": "light"
          }
        }
      ]
    },
    {
      "cell_type": "markdown",
      "metadata": {
        "id": "9FI33pklNpqx"
      },
      "source": [
        "cond2d(...) 리턴 값 출력, 즉 필터에 의해 컨볼루션 연산된 이미지 출력 "
      ]
    },
    {
      "cell_type": "code",
      "metadata": {
        "colab": {
          "base_uri": "https://localhost:8080/",
          "height": 282
        },
        "id": "Gpm6FBXSCcwm",
        "outputId": "81fe3e4d-41d6-41d3-d235-f9369c2f5ff9"
      },
      "source": [
        "import numpy as np\n",
        "import matplotlib.pyplot as plt\n",
        "%matplotlib inline\n",
        "\n",
        "# conv_ret_val image 확인\n",
        "\n",
        "# conv_ret_val_list[0] => 1st conv layer \n",
        "# [9, :, :, 15] => 16번째 필터에 의해 컨볼루션 연산된 28 x 28 크기의 10번째 이미지 (즉, test_x_data[9] 데이터를 나타냄)\n",
        "\n",
        "plt.imshow(conv_ret_val_list[0][9, :, :, 15], cmap='gray')  "
      ],
      "execution_count": 14,
      "outputs": [
        {
          "output_type": "execute_result",
          "data": {
            "text/plain": [
              "<matplotlib.image.AxesImage at 0x7fabe0128dd8>"
            ]
          },
          "metadata": {
            "tags": []
          },
          "execution_count": 14
        },
        {
          "output_type": "display_data",
          "data": {
            "image/png": "[encoded data removed]",
            "text/plain": [
              "<Figure size 432x288 with 1 Axes>"
            ]
          },
          "metadata": {
            "tags": [],
            "needs_background": "light"
          }
        }
      ]
    },
    {
      "cell_type": "code",
      "metadata": {
        "colab": {
          "base_uri": "https://localhost:8080/",
          "height": 282
        },
        "id": "ZLbS0ZDaGqvb",
        "outputId": "1ed3f23f-1db1-4542-cedc-75a041924f6a"
      },
      "source": [
        "# conv_ret_val_list[0] => 1st conv layer \n",
        "\n",
        "# [9, :, :, 0] => 1번째 필터에 의해 컨볼루션 연산된 28 x 28 크기의 10번째 이미지 (즉, test_x_data[9] 데이터를 나타냄)\n",
        "\n",
        "plt.imshow(conv_ret_val_list[0][9, :, :, 0], cmap='gray')  "
      ],
      "execution_count": 15,
      "outputs": [
        {
          "output_type": "execute_result",
          "data": {
            "text/plain": [
              "<matplotlib.image.AxesImage at 0x7fabe00a41d0>"
            ]
          },
          "metadata": {
            "tags": []
          },
          "execution_count": 15
        },
        {
          "output_type": "display_data",
          "data": {
            "image/png": "[encoded data removed]",
            "text/plain": [
              "<Figure size 432x288 with 1 Axes>"
            ]
          },
          "metadata": {
            "tags": [],
            "needs_background": "light"
          }
        }
      ]
    },
    {
      "cell_type": "code",
      "metadata": {
        "colab": {
          "base_uri": "https://localhost:8080/",
          "height": 282
        },
        "id": "bgopoNXfKeAh",
        "outputId": "0b70818c-1d10-4dca-dc3b-4b439361a128"
      },
      "source": [
        "# conv_ret_val_list[0] => 1st conv layer \n",
        "\n",
        "# [9, :, :, 31] => 32번째 필터에 의해 컨볼루션 연산된 28 x 28 크기의 10번째 이미지 (즉, test_x_data[9] 데이터를 나타냄)\n",
        "\n",
        "plt.imshow(conv_ret_val_list[0][9, :, :, 31], cmap='gray')  "
      ],
      "execution_count": 16,
      "outputs": [
        {
          "output_type": "execute_result",
          "data": {
            "text/plain": [
              "<matplotlib.image.AxesImage at 0x7fabe007f2b0>"
            ]
          },
          "metadata": {
            "tags": []
          },
          "execution_count": 16
        },
        {
          "output_type": "display_data",
          "data": {
            "image/png": "[encoded data removed]",
            "text/plain": [
              "<Figure size 432x288 with 1 Axes>"
            ]
          },
          "metadata": {
            "tags": [],
            "needs_background": "light"
          }
        }
      ]
    },
    {
      "cell_type": "markdown",
      "metadata": {
        "id": "rvRLAnNnN6bS"
      },
      "source": [
        "max_pool(...) 리턴 값 출력, 즉 max pooling 적용된 이미지 출력"
      ]
    },
    {
      "cell_type": "code",
      "metadata": {
        "colab": {
          "base_uri": "https://localhost:8080/",
          "height": 282
        },
        "id": "YBOWgkg3K404",
        "outputId": "d5284232-425d-47c1-c03d-bed8ef783417"
      },
      "source": [
        "# pooling_ret_val_list[0] => 1st conv layer \n",
        "\n",
        "# [9, :, :, 15] => 16번째 필터에 의해 컨볼루션 연산된 후, max pooling 된 14 x 14 크기의 10번째 이미지 (즉, test_x_data[9] 데이터를 나타냄)\n",
        "\n",
        "plt.imshow(pooling_ret_val_list[0][9, :, :, 15], cmap='gray')  "
      ],
      "execution_count": 17,
      "outputs": [
        {
          "output_type": "execute_result",
          "data": {
            "text/plain": [
              "<matplotlib.image.AxesImage at 0x7fabe0136320>"
            ]
          },
          "metadata": {
            "tags": []
          },
          "execution_count": 17
        },
        {
          "output_type": "display_data",
          "data": {
            "image/png": "[encoded data removed]",
            "text/plain": [
              "<Figure size 432x288 with 1 Axes>"
            ]
          },
          "metadata": {
            "tags": [],
            "needs_background": "light"
          }
        }
      ]
    },
    {
      "cell_type": "code",
      "metadata": {
        "colab": {
          "base_uri": "https://localhost:8080/",
          "height": 282
        },
        "id": "btp83R4fNWKB",
        "outputId": "3fd7264c-a19c-4cd1-a791-17a571cb480d"
      },
      "source": [
        "# pooling_ret_val_list[0] => 1st conv layer \n",
        "\n",
        "# [9, :, :, 0] => 1번째 필터에 의해 컨볼루션 연산된 후, max pooling 된 14 x 14 크기의 10번째 이미지 (즉, test_x_data[9] 데이터를 나타냄)\n",
        "\n",
        "plt.imshow(pooling_ret_val_list[0][9, :, :, 0], cmap='gray')  "
      ],
      "execution_count": 18,
      "outputs": [
        {
          "output_type": "execute_result",
          "data": {
            "text/plain": [
              "<matplotlib.image.AxesImage at 0x7fabedcf26d8>"
            ]
          },
          "metadata": {
            "tags": []
          },
          "execution_count": 18
        },
        {
          "output_type": "display_data",
          "data": {
            "image/png": "[encoded data removed]",
            "text/plain": [
              "<Figure size 432x288 with 1 Axes>"
            ]
          },
          "metadata": {
            "tags": [],
            "needs_background": "light"
          }
        }
      ]
    },
    {
      "cell_type": "code",
      "metadata": {
        "colab": {
          "base_uri": "https://localhost:8080/",
          "height": 282
        },
        "id": "SXCdxZBlNZdh",
        "outputId": "084e69ed-4f35-45e5-d9e1-8da6ac971c97"
      },
      "source": [
        "# pooling_ret_val_list[0] => 1st conv layer \n",
        "\n",
        "# [9, :, :, 31] => 32번째 필터에 의해 컨볼루션 연산된 후, max pooling 된 14 x 14 크기의 10번째 이미지 (즉, test_x_data[9] 데이터를 나타냄)\n",
        "\n",
        "plt.imshow(pooling_ret_val_list[0][9, :, :, 31], cmap='gray')  "
      ],
      "execution_count": 19,
      "outputs": [
        {
          "output_type": "execute_result",
          "data": {
            "text/plain": [
              "<matplotlib.image.AxesImage at 0x7fab9014cb00>"
            ]
          },
          "metadata": {
            "tags": []
          },
          "execution_count": 19
        },
        {
          "output_type": "display_data",
          "data": {
            "image/png": "[encoded data removed]",
            "text/plain": [
              "<Figure size 432x288 with 1 Axes>"
            ]
          },
          "metadata": {
            "tags": [],
            "needs_background": "light"
          }
        }
      ]
    },
    {
      "cell_type": "code",
      "metadata": {
        "id": "tktmYlMeODjG"
      },
      "source": [
        ""
      ],
      "execution_count": null,
      "outputs": []
    }
  ]
}