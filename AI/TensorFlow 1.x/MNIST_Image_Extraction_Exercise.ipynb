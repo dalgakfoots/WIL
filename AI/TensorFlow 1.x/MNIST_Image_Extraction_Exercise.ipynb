{
 "cells": [
  {
   "cell_type": "code",
   "execution_count": null,
   "metadata": {},
   "outputs": [],
   "source": [
    "%tensorflow_version 1.x\n",
    "\n",
    "import tensorflow as tf\n",
    "from tensorflow.examples.tutorials.mnist import input_data\n",
    "import matplotlib.pyplot as plt\n",
    "\n",
    "# mnist download\n",
    "mnist = input_data.read_data_sets(\"MNIST_data/\", one_hot=True)\n",
    "\n",
    "plt.imshow(mnist.train.images[2].reshape(28,28), cmap='gray') # 2 번째 데이터"
   ]
  },
  {
   "cell_type": "code",
   "execution_count": null,
   "metadata": {},
   "outputs": [],
   "source": [
    "import numpy as np\n",
    "\n",
    "horizontal_filter = np.array([[1., 1., 1.], \n",
    "                             [0., 0., 0.], \n",
    "                             [-1., -1., -1.]])\n",
    "\n",
    "vertical_filter = np.array([[1., 0., -1.],\n",
    "                           [1., 0., -1.],\n",
    "                           [1., 0., -1.]])\n",
    "\n",
    "sharpen_filter = np.array([[0., -1., 0.],\n",
    "                           [-1., 5., -1.],\n",
    "                           [0., -1., 0.]])\n",
    "\n",
    "blur_filter = np.array([[0.11, 0.11, 0.11],\n",
    "                        [0.11, 0.11, 0.11],\n",
    "                        [0.11, 0.11, 0.11]])\n",
    "\n",
    "edge_1_filter = np.array([[1., 0., -1.],\n",
    "                           [0., 0., 0.],\n",
    "                           [-1., 0., 1.]])\n",
    "\n",
    "edge_2_filter = np.array([[0., -1., 0.],\n",
    "                           [-1., 4., -1.],\n",
    "                           [0., -1., 0.]])\n",
    "\n",
    "edge_3_filter = np.array([[-1., -1., -1.],\n",
    "                           [-1., 8., -1.],\n",
    "                           [-1., -1., -1.]])\n",
    "\n",
    "\n",
    "test_image = mnist.train.images[2].reshape(28,28)\n",
    "original_image_size = test_image.shape[0]\n",
    "conv_output_size = int((original_image_size - 3)/1 + 1)\n",
    "print('output size = ', conv_output_size)"
   ]
  }
 ],
 "metadata": {
  "kernelspec": {
   "display_name": "Python 3",
   "language": "python",
   "name": "python3"
  },
  "language_info": {
   "codemirror_mode": {
    "name": "ipython",
    "version": 3
   },
   "file_extension": ".py",
   "mimetype": "text/x-python",
   "name": "python",
   "nbconvert_exporter": "python",
   "pygments_lexer": "ipython3",
   "version": "3.7.9"
  }
 },
 "nbformat": 4,
 "nbformat_minor": 4
}
