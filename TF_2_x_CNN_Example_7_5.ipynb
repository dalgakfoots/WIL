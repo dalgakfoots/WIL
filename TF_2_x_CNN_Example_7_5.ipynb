{
  "nbformat": 4,
  "nbformat_minor": 0,
  "metadata": {
    "accelerator": "GPU",
    "colab": {
      "name": "TF_2_x_CNN_Example_7_5.ipynb",
      "provenance": [],
      "collapsed_sections": []
    },
    "kernelspec": {
      "display_name": "Python 3",
      "language": "python",
      "name": "python3"
    },
    "language_info": {
      "codemirror_mode": {
        "name": "ipython",
        "version": 3
      },
      "file_extension": ".py",
      "mimetype": "text/x-python",
      "name": "python",
      "nbconvert_exporter": "python",
      "pygments_lexer": "ipython3",
      "version": "3.7.3"
    }
  },
  "cells": [
    {
      "cell_type": "markdown",
      "metadata": {
        "id": "AMxhCaVt8uqn"
      },
      "source": [
        "### Basic CNN Architecture (3 Conv / Flatten - Dense - Dropout - Dense) 예제\n",
        "\n",
        "1. 입력층 개념은 없애고, Conv2D(input_shape=(28,28,1), ...) 형태여야 한다\n",
        "\n",
        "2. model.fit(), model.evaluate(), model.predict() 실행시킬때 입력데이터의 형변환을 reshape(-1, 28, 28, 1) 같이 tensor 로 해주어야 한다\n",
        "\n",
        "3. 1st conv => 3 x 3 크기의 32 개 필터, No padding, 2 x 2 max pooling, 1stride\n",
        "\n",
        "4. 2nd conv => 3 x 3 크기의 64 개 필터, padding 있음, 2 x 2 max pooling, 1stride, No Pooling Padding\n",
        "\n",
        "5. 3rd conv => 3 x 3 크기의 128 개 필터, padding 있음, 2 x 2 max pooling, 1stride\n",
        "\n",
        "6. Flatten - Dense(512,) - Dropout - Dense(10,)\n",
        "\n",
        "7. index_label_prediction"
      ]
    },
    {
      "cell_type": "code",
      "metadata": {
        "colab": {
          "base_uri": "https://localhost:8080/"
        },
        "id": "Mz7L7JQA0zBd",
        "outputId": "721c5efc-b03b-45ce-b3e7-85965f1e711f"
      },
      "source": [
        "import tensorflow as tf\n",
        "\n",
        "from tensorflow.keras.layers import Flatten, Dense, Conv2D, MaxPooling2D, Dropout\n",
        "from tensorflow.keras.models import Sequential\n",
        "from tensorflow.keras.optimizers import Adam\n",
        "from tensorflow.keras.datasets import mnist\n",
        "\n",
        "import numpy as np\n",
        "from datetime import datetime\n",
        "import matplotlib.pyplot as plt\n",
        "\n",
        "print(tf.__version__)"
      ],
      "execution_count": 1,
      "outputs": [
        {
          "output_type": "stream",
          "text": [
            "2.3.0\n"
          ],
          "name": "stdout"
        }
      ]
    },
    {
      "cell_type": "code",
      "metadata": {
        "colab": {
          "base_uri": "https://localhost:8080/"
        },
        "id": "hWSWQdg61_pp",
        "outputId": "ce4791c3-1af3-4feb-8cd0-ec7c204773aa"
      },
      "source": [
        "(x_train, t_train), (x_test, t_test) = mnist.load_data()\n",
        "\n",
        "x_train = x_train / 255.0\n",
        "x_test = x_test / 255.0\n",
        "\n",
        "print('x_train.shape = ', x_train.shape, ' , x_test.shape = ', x_test.shape)\n",
        "print('t_train.shape = ', t_train.shape, ' , t_test.shape = ', t_test.shape)"
      ],
      "execution_count": 2,
      "outputs": [
        {
          "output_type": "stream",
          "text": [
            "Downloading data from https://storage.googleapis.com/tensorflow/tf-keras-datasets/mnist.npz\n",
            "11493376/11490434 [==============================] - 0s 0us/step\n",
            "x_train.shape =  (60000, 28, 28)  , x_test.shape =  (10000, 28, 28)\n",
            "t_train.shape =  (60000,)  , t_test.shape =  (10000,)\n"
          ],
          "name": "stdout"
        }
      ]
    },
    {
      "cell_type": "code",
      "metadata": {
        "colab": {
          "base_uri": "https://localhost:8080/",
          "height": 589
        },
        "id": "8dvRVX7M_0dY",
        "outputId": "67791a96-1be6-414f-ad6f-27b16d89673c"
      },
      "source": [
        "# 데이터 출력\n",
        "\n",
        "plt.figure(figsize=(10,10))\n",
        "\n",
        "for index in range(25):\n",
        "\n",
        "    plt.subplot(5, 5, index+1)\n",
        "    plt.xticks([])\n",
        "    plt.yticks([])\n",
        "    plt.grid(False)\n",
        "    plt.imshow(x_train[index], cmap='gray')\n",
        "    plt.xlabel(str(t_train[index]))\n",
        "\n",
        "plt.show()"
      ],
      "execution_count": 3,
      "outputs": [
        {
          "output_type": "display_data",
          "data": {
            "image/png": "[encoded data removed]",
            "text/plain": [
              "<Figure size 720x720 with 25 Axes>"
            ]
          },
          "metadata": {
            "tags": []
          }
        }
      ]
    },
    {
      "cell_type": "code",
      "metadata": {
        "id": "011OLa7CCG8k"
      },
      "source": [
        "# hyper paramter\n",
        "\n",
        "learning_rate = 0.001\n",
        "epochs = 50\n",
        "batch_size = 50"
      ],
      "execution_count": 4,
      "outputs": []
    },
    {
      "cell_type": "code",
      "metadata": {
        "id": "TyTj4TLi3L2Q"
      },
      "source": [
        "# sequential model construction\n",
        "\n",
        "model = Sequential()\n",
        "\n",
        "# input_layer = Flatten(input_shape=(28, 28, 1), name='input_layer')  # 이렇게 해면 error 발생\n",
        "# model.add(input_layer)    # conv 레이어에서는 입력층을 Flatten 하면 error 발생\n",
        "\n",
        "# 1st conv => 3 x 3 x 32 필터\n",
        "model.add(Conv2D(input_shape=(28,28,1), kernel_size=3, filters=32, strides=(1,1), activation='relu', use_bias=True, padding='VALID'))\n",
        "\n",
        "# 1st pooling\n",
        "model.add(MaxPooling2D(pool_size=(2,2), padding='SAME'))\n",
        "\n",
        "# 2nd conv => 3 x 3 x 64 필터\n",
        "model.add(Conv2D(kernel_size=3, filters=64, strides=(1,1), activation='relu', use_bias=True, padding='SAME'))\n",
        "\n",
        "# 2nd pooling\n",
        "model.add(MaxPooling2D(pool_size=(2,2), padding='VALID'))\n",
        "\n",
        "# 3rd conv => 3 x 3 x 128 필터\n",
        "model.add(Conv2D(kernel_size=3, filters=128, strides=(1,1), activation='relu', use_bias=True, padding='SAME'))\n",
        "\n",
        "# 3rd pooling\n",
        "pooling_3 = MaxPooling2D(pool_size=(2,2), padding='SAME')\n",
        "model.add(pooling_3)\n",
        "\n",
        "# Flatten layer\n",
        "model.add(Flatten())\n",
        "\n",
        "# Dense 추가\n",
        "model.add(Dense(64, activation='relu'))\n",
        "\n",
        "# Dropout\n",
        "model.add(Dropout(0.2))\n",
        "\n",
        "# Dense 추가\n",
        "model.add(Dense(64, activation='relu'))\n",
        "\n",
        "# Dropout\n",
        "model.add(Dropout(0.1))\n",
        "\n",
        "# 출력층 \n",
        "model.add(Dense(10, activation='softmax'))"
      ],
      "execution_count": 5,
      "outputs": []
    },
    {
      "cell_type": "code",
      "metadata": {
        "id": "PRkYkMr6Dk1H"
      },
      "source": [
        "# model compile\n",
        "\n",
        "model.compile(optimizer=Adam(learning_rate), loss='sparse_categorical_crossentropy', metrics=['accuracy'])"
      ],
      "execution_count": 6,
      "outputs": []
    },
    {
      "cell_type": "code",
      "metadata": {
        "colab": {
          "base_uri": "https://localhost:8080/"
        },
        "id": "EB7zqH_H5MTO",
        "outputId": "5fceee1d-c145-46c9-c0f6-db388aa416ef"
      },
      "source": [
        "model.summary()"
      ],
      "execution_count": 7,
      "outputs": [
        {
          "output_type": "stream",
          "text": [
            "Model: \"sequential\"\n",
            "_________________________________________________________________\n",
            "Layer (type)                 Output Shape              Param #   \n",
            "=================================================================\n",
            "conv2d (Conv2D)              (None, 26, 26, 32)        320       \n",
            "_________________________________________________________________\n",
            "max_pooling2d (MaxPooling2D) (None, 13, 13, 32)        0         \n",
            "_________________________________________________________________\n",
            "conv2d_1 (Conv2D)            (None, 13, 13, 64)        18496     \n",
            "_________________________________________________________________\n",
            "max_pooling2d_1 (MaxPooling2 (None, 6, 6, 64)          0         \n",
            "_________________________________________________________________\n",
            "conv2d_2 (Conv2D)            (None, 6, 6, 128)         73856     \n",
            "_________________________________________________________________\n",
            "max_pooling2d_2 (MaxPooling2 (None, 3, 3, 128)         0         \n",
            "_________________________________________________________________\n",
            "flatten (Flatten)            (None, 1152)              0         \n",
            "_________________________________________________________________\n",
            "dense (Dense)                (None, 64)                73792     \n",
            "_________________________________________________________________\n",
            "dropout (Dropout)            (None, 64)                0         \n",
            "_________________________________________________________________\n",
            "dense_1 (Dense)              (None, 64)                4160      \n",
            "_________________________________________________________________\n",
            "dropout_1 (Dropout)          (None, 64)                0         \n",
            "_________________________________________________________________\n",
            "dense_2 (Dense)              (None, 10)                650       \n",
            "=================================================================\n",
            "Total params: 171,274\n",
            "Trainable params: 171,274\n",
            "Non-trainable params: 0\n",
            "_________________________________________________________________\n"
          ],
          "name": "stdout"
        }
      ]
    },
    {
      "cell_type": "code",
      "metadata": {
        "colab": {
          "base_uri": "https://localhost:8080/"
        },
        "id": "4XxgT7RFva9m",
        "outputId": "32efbd2b-146a-4556-c0a1-dcd9a2efd5ea"
      },
      "source": [
        "# model shape 확인\n",
        "\n",
        "print(model.input_shape, model.output_shape)"
      ],
      "execution_count": 8,
      "outputs": [
        {
          "output_type": "stream",
          "text": [
            "(None, 28, 28, 1) (None, 10)\n"
          ],
          "name": "stdout"
        }
      ]
    },
    {
      "cell_type": "code",
      "metadata": {
        "colab": {
          "base_uri": "https://localhost:8080/"
        },
        "id": "lWC9NA-G5vvz",
        "outputId": "c34f73a1-6c04-42f4-c16b-6182f60f4a38"
      },
      "source": [
        "# 원래 x_train, x_test 의 shape(차원) 은 (이미지 수, 28, 28) 의 3차원 데이터.\n",
        "# 이것을 4차원으로 바꾸기 위해 reshape() 을 사용함.\n",
        "# 가장 처음의 -1 은 batch_size 에 지정된 데이터가 한번에 오는것임.\n",
        "\n",
        "start_time = datetime.now()\n",
        "\n",
        "hist = model.fit(x_train.reshape(-1,28,28,1), t_train, batch_size=batch_size, epochs=epochs, validation_split=0.2)\n",
        "\n",
        "end_time = datetime.now()\n",
        "\n",
        "print('\\n\\nElapsed Time => ', end_time - start_time)"
      ],
      "execution_count": 9,
      "outputs": [
        {
          "output_type": "stream",
          "text": [
            "Epoch 1/50\n",
            "960/960 [==============================] - 3s 4ms/step - loss: 0.2894 - accuracy: 0.9074 - val_loss: 0.0686 - val_accuracy: 0.9797\n",
            "Epoch 2/50\n",
            "960/960 [==============================] - 3s 3ms/step - loss: 0.0895 - accuracy: 0.9750 - val_loss: 0.0479 - val_accuracy: 0.9867\n",
            "Epoch 3/50\n",
            "960/960 [==============================] - 3s 3ms/step - loss: 0.0600 - accuracy: 0.9826 - val_loss: 0.0439 - val_accuracy: 0.9886\n",
            "Epoch 4/50\n",
            "960/960 [==============================] - 3s 3ms/step - loss: 0.0463 - accuracy: 0.9858 - val_loss: 0.0371 - val_accuracy: 0.9894\n",
            "Epoch 5/50\n",
            "960/960 [==============================] - 3s 3ms/step - loss: 0.0369 - accuracy: 0.9893 - val_loss: 0.0394 - val_accuracy: 0.9900\n",
            "Epoch 6/50\n",
            "960/960 [==============================] - 3s 3ms/step - loss: 0.0315 - accuracy: 0.9911 - val_loss: 0.0371 - val_accuracy: 0.9898\n",
            "Epoch 7/50\n",
            "960/960 [==============================] - 3s 3ms/step - loss: 0.0281 - accuracy: 0.9916 - val_loss: 0.0445 - val_accuracy: 0.9890\n",
            "Epoch 8/50\n",
            "960/960 [==============================] - 3s 3ms/step - loss: 0.0243 - accuracy: 0.9930 - val_loss: 0.0577 - val_accuracy: 0.9851\n",
            "Epoch 9/50\n",
            "960/960 [==============================] - 3s 3ms/step - loss: 0.0217 - accuracy: 0.9936 - val_loss: 0.0332 - val_accuracy: 0.9916\n",
            "Epoch 10/50\n",
            "960/960 [==============================] - 3s 3ms/step - loss: 0.0186 - accuracy: 0.9941 - val_loss: 0.0410 - val_accuracy: 0.9910\n",
            "Epoch 11/50\n",
            "960/960 [==============================] - 3s 3ms/step - loss: 0.0169 - accuracy: 0.9948 - val_loss: 0.0434 - val_accuracy: 0.9896\n",
            "Epoch 12/50\n",
            "960/960 [==============================] - 3s 3ms/step - loss: 0.0152 - accuracy: 0.9953 - val_loss: 0.0442 - val_accuracy: 0.9905\n",
            "Epoch 13/50\n",
            "960/960 [==============================] - 3s 3ms/step - loss: 0.0147 - accuracy: 0.9955 - val_loss: 0.0499 - val_accuracy: 0.9891\n",
            "Epoch 14/50\n",
            "960/960 [==============================] - 3s 4ms/step - loss: 0.0120 - accuracy: 0.9965 - val_loss: 0.0440 - val_accuracy: 0.9918\n",
            "Epoch 15/50\n",
            "960/960 [==============================] - 3s 3ms/step - loss: 0.0154 - accuracy: 0.9954 - val_loss: 0.0414 - val_accuracy: 0.9912\n",
            "Epoch 16/50\n",
            "960/960 [==============================] - 3s 3ms/step - loss: 0.0102 - accuracy: 0.9968 - val_loss: 0.0491 - val_accuracy: 0.9896\n",
            "Epoch 17/50\n",
            "960/960 [==============================] - 3s 3ms/step - loss: 0.0119 - accuracy: 0.9960 - val_loss: 0.0470 - val_accuracy: 0.9908\n",
            "Epoch 18/50\n",
            "960/960 [==============================] - 3s 3ms/step - loss: 0.0096 - accuracy: 0.9970 - val_loss: 0.0459 - val_accuracy: 0.9912\n",
            "Epoch 19/50\n",
            "960/960 [==============================] - 3s 3ms/step - loss: 0.0120 - accuracy: 0.9961 - val_loss: 0.0362 - val_accuracy: 0.9925\n",
            "Epoch 20/50\n",
            "960/960 [==============================] - 3s 3ms/step - loss: 0.0108 - accuracy: 0.9969 - val_loss: 0.0385 - val_accuracy: 0.9927\n",
            "Epoch 21/50\n",
            "960/960 [==============================] - 3s 3ms/step - loss: 0.0056 - accuracy: 0.9980 - val_loss: 0.0481 - val_accuracy: 0.9927\n",
            "Epoch 22/50\n",
            "960/960 [==============================] - 3s 3ms/step - loss: 0.0093 - accuracy: 0.9972 - val_loss: 0.0485 - val_accuracy: 0.9921\n",
            "Epoch 23/50\n",
            "960/960 [==============================] - 3s 3ms/step - loss: 0.0077 - accuracy: 0.9975 - val_loss: 0.0502 - val_accuracy: 0.9923\n",
            "Epoch 24/50\n",
            "960/960 [==============================] - 3s 3ms/step - loss: 0.0096 - accuracy: 0.9973 - val_loss: 0.0496 - val_accuracy: 0.9916\n",
            "Epoch 25/50\n",
            "960/960 [==============================] - 3s 3ms/step - loss: 0.0080 - accuracy: 0.9978 - val_loss: 0.0484 - val_accuracy: 0.9896\n",
            "Epoch 26/50\n",
            "960/960 [==============================] - 3s 3ms/step - loss: 0.0077 - accuracy: 0.9976 - val_loss: 0.0641 - val_accuracy: 0.9880\n",
            "Epoch 27/50\n",
            "960/960 [==============================] - 3s 3ms/step - loss: 0.0081 - accuracy: 0.9976 - val_loss: 0.0439 - val_accuracy: 0.9929\n",
            "Epoch 28/50\n",
            "960/960 [==============================] - 3s 3ms/step - loss: 0.0055 - accuracy: 0.9981 - val_loss: 0.0529 - val_accuracy: 0.9922\n",
            "Epoch 29/50\n",
            "960/960 [==============================] - 3s 3ms/step - loss: 0.0077 - accuracy: 0.9978 - val_loss: 0.0578 - val_accuracy: 0.9904\n",
            "Epoch 30/50\n",
            "960/960 [==============================] - 3s 3ms/step - loss: 0.0084 - accuracy: 0.9977 - val_loss: 0.0471 - val_accuracy: 0.9911\n",
            "Epoch 31/50\n",
            "960/960 [==============================] - 3s 3ms/step - loss: 0.0058 - accuracy: 0.9983 - val_loss: 0.0545 - val_accuracy: 0.9912\n",
            "Epoch 32/50\n",
            "960/960 [==============================] - 3s 3ms/step - loss: 0.0075 - accuracy: 0.9975 - val_loss: 0.0620 - val_accuracy: 0.9918\n",
            "Epoch 33/50\n",
            "960/960 [==============================] - 3s 3ms/step - loss: 0.0063 - accuracy: 0.9980 - val_loss: 0.0655 - val_accuracy: 0.9904\n",
            "Epoch 34/50\n",
            "960/960 [==============================] - 3s 3ms/step - loss: 0.0044 - accuracy: 0.9984 - val_loss: 0.0626 - val_accuracy: 0.9924\n",
            "Epoch 35/50\n",
            "960/960 [==============================] - 3s 3ms/step - loss: 0.0078 - accuracy: 0.9981 - val_loss: 0.0561 - val_accuracy: 0.9920\n",
            "Epoch 36/50\n",
            "960/960 [==============================] - 3s 3ms/step - loss: 0.0040 - accuracy: 0.9988 - val_loss: 0.0670 - val_accuracy: 0.9923\n",
            "Epoch 37/50\n",
            "960/960 [==============================] - 3s 3ms/step - loss: 0.0064 - accuracy: 0.9981 - val_loss: 0.0637 - val_accuracy: 0.9912\n",
            "Epoch 38/50\n",
            "960/960 [==============================] - 3s 3ms/step - loss: 0.0066 - accuracy: 0.9981 - val_loss: 0.0667 - val_accuracy: 0.9907\n",
            "Epoch 39/50\n",
            "960/960 [==============================] - 3s 3ms/step - loss: 0.0064 - accuracy: 0.9983 - val_loss: 0.0694 - val_accuracy: 0.9894\n",
            "Epoch 40/50\n",
            "960/960 [==============================] - 3s 3ms/step - loss: 0.0057 - accuracy: 0.9981 - val_loss: 0.0659 - val_accuracy: 0.9912\n",
            "Epoch 41/50\n",
            "960/960 [==============================] - 3s 3ms/step - loss: 0.0054 - accuracy: 0.9985 - val_loss: 0.0702 - val_accuracy: 0.9898\n",
            "Epoch 42/50\n",
            "960/960 [==============================] - 3s 3ms/step - loss: 0.0044 - accuracy: 0.9989 - val_loss: 0.0444 - val_accuracy: 0.9928\n",
            "Epoch 43/50\n",
            "960/960 [==============================] - 3s 3ms/step - loss: 0.0058 - accuracy: 0.9985 - val_loss: 0.0617 - val_accuracy: 0.9901\n",
            "Epoch 44/50\n",
            "960/960 [==============================] - 3s 3ms/step - loss: 0.0074 - accuracy: 0.9980 - val_loss: 0.0577 - val_accuracy: 0.9925\n",
            "Epoch 45/50\n",
            "960/960 [==============================] - 3s 3ms/step - loss: 0.0037 - accuracy: 0.9990 - val_loss: 0.0827 - val_accuracy: 0.9877\n",
            "Epoch 46/50\n",
            "960/960 [==============================] - 3s 3ms/step - loss: 0.0050 - accuracy: 0.9986 - val_loss: 0.0584 - val_accuracy: 0.9921\n",
            "Epoch 47/50\n",
            "960/960 [==============================] - 3s 3ms/step - loss: 0.0055 - accuracy: 0.9984 - val_loss: 0.0637 - val_accuracy: 0.9918\n",
            "Epoch 48/50\n",
            "960/960 [==============================] - 3s 3ms/step - loss: 0.0037 - accuracy: 0.9990 - val_loss: 0.0612 - val_accuracy: 0.9933\n",
            "Epoch 49/50\n",
            "960/960 [==============================] - 3s 3ms/step - loss: 0.0058 - accuracy: 0.9985 - val_loss: 0.0611 - val_accuracy: 0.9910\n",
            "Epoch 50/50\n",
            "960/960 [==============================] - 3s 3ms/step - loss: 0.0071 - accuracy: 0.9981 - val_loss: 0.0513 - val_accuracy: 0.9920\n",
            "\n",
            "\n",
            "Elapsed Time =>  0:02:47.686133\n"
          ],
          "name": "stdout"
        }
      ]
    },
    {
      "cell_type": "code",
      "metadata": {
        "colab": {
          "base_uri": "https://localhost:8080/"
        },
        "id": "2C2fV-8K6XsU",
        "outputId": "448bc16e-54e2-4ccb-8056-66194308b740"
      },
      "source": [
        "# x_test 도 마찬가지로 데이터를 4차원으로 reshape 으로 변환 해주지 않으면 error\n",
        "\n",
        "model.evaluate(x_test.reshape(-1,28,28,1), t_test)"
      ],
      "execution_count": 10,
      "outputs": [
        {
          "output_type": "stream",
          "text": [
            "313/313 [==============================] - 1s 3ms/step - loss: 0.0373 - accuracy: 0.9935\n"
          ],
          "name": "stdout"
        },
        {
          "output_type": "execute_result",
          "data": {
            "text/plain": [
              "[0.03731835260987282, 0.9934999942779541]"
            ]
          },
          "metadata": {
            "tags": []
          },
          "execution_count": 10
        }
      ]
    },
    {
      "cell_type": "code",
      "metadata": {
        "colab": {
          "base_uri": "https://localhost:8080/"
        },
        "id": "HrkrXtQ_GXsh",
        "outputId": "ffc8b5a5-a568-4cb7-aa92-4b98fabd820f"
      },
      "source": [
        "# index_label_prediction 코드 구현\n",
        "\n",
        "ret_val = model.predict(x_test.reshape(-1,28,28,1))\n",
        "\n",
        "print('type(ret_val) = ', type(ret_val), ', ret_val.shape = ', ret_val.shape)\n",
        "\n",
        "# predict 실행 결과는 softmax 에 의한 확률 결과이므로, argmax 이용해서 10진수로 바꾸어 주어야함\n",
        "\n",
        "predicted_val = np.argmax(ret_val, axis=1)  # 행 단위로 argmax 실행\n",
        "\n",
        "prediction_label_comp_val = np.equal(predicted_val, t_test)\n",
        "\n",
        "# list comprehension 이용하여 index_label_prediction 구현\n",
        "\n",
        "index_label_prediction_list = [ [index, t_test[index], predicted_val[index] ]  for index, result in enumerate(prediction_label_comp_val)  if result == False ]\n",
        "\n",
        "print(len(index_label_prediction_list))\n",
        "\n",
        "print('Accuracy = ', 1 - ( len(index_label_prediction_list) / len(t_test) ))"
      ],
      "execution_count": 11,
      "outputs": [
        {
          "output_type": "stream",
          "text": [
            "type(ret_val) =  <class 'numpy.ndarray'> , ret_val.shape =  (10000, 10)\n",
            "65\n",
            "Accuracy =  0.9935\n"
          ],
          "name": "stdout"
        }
      ]
    },
    {
      "cell_type": "code",
      "metadata": {
        "colab": {
          "base_uri": "https://localhost:8080/"
        },
        "id": "VHqeirkrdW6r",
        "outputId": "1b96fcee-84b9-4391-998e-b0048a53c0de"
      },
      "source": [
        "print(index_label_prediction_list)"
      ],
      "execution_count": 12,
      "outputs": [
        {
          "output_type": "stream",
          "text": [
            "[[247, 4, 6], [449, 3, 5], [582, 8, 2], [625, 6, 4], [659, 2, 1], [674, 5, 3], [740, 4, 9], [938, 3, 8], [947, 8, 9], [1112, 4, 6], [1232, 9, 4], [1260, 7, 1], [1274, 4, 6], [1299, 5, 7], [1393, 5, 3], [1530, 8, 7], [1621, 0, 6], [1681, 3, 7], [1901, 9, 4], [2130, 4, 9], [2135, 6, 1], [2185, 0, 8], [2369, 5, 7], [2414, 9, 4], [2597, 5, 3], [2654, 6, 1], [2927, 3, 2], [2953, 3, 5], [3005, 9, 8], [3225, 7, 9], [3369, 9, 8], [3422, 6, 0], [3520, 6, 4], [3534, 4, 8], [3730, 7, 9], [3762, 6, 8], [3767, 7, 2], [3808, 7, 2], [3906, 1, 3], [4176, 2, 7], [4477, 0, 6], [4500, 9, 1], [4504, 2, 7], [4740, 3, 5], [4761, 9, 4], [4823, 9, 4], [4860, 4, 9], [5698, 4, 7], [5937, 5, 3], [5955, 3, 8], [5981, 5, 9], [5997, 5, 9], [6091, 9, 5], [6400, 0, 6], [6576, 7, 1], [6625, 8, 4], [6651, 0, 8], [7216, 0, 6], [8316, 7, 2], [8325, 0, 6], [8527, 4, 9], [9505, 7, 2], [9634, 0, 2], [9729, 5, 6], [9904, 2, 8]]\n"
          ],
          "name": "stdout"
        }
      ]
    },
    {
      "cell_type": "code",
      "metadata": {
        "colab": {
          "base_uri": "https://localhost:8080/",
          "height": 298
        },
        "id": "eXg0Lh6V7coF",
        "outputId": "4dc65a26-4908-49f5-f3b9-ce55ac4813b6"
      },
      "source": [
        "# 임의의 false prediction 이미지 출력\n",
        "\n",
        "false_data_index = np.random.randint(len(index_label_prediction_list))\n",
        "\n",
        "print('len of index_label_prediction_list => ', len(index_label_prediction_list), ', false_data_index => ', false_data_index)\n",
        "\n",
        "mnist_index = index_label_prediction_list[false_data_index][0]\n",
        "label = index_label_prediction_list[false_data_index][1]\n",
        "prediction = index_label_prediction_list[false_data_index][2]\n",
        "\n",
        "title_str = 'index = ' + str(mnist_index) + ' , label = ' + str(label) + ' , prediction = ' + str(prediction)\n",
        "\n",
        "img = x_test[mnist_index].reshape(28,28)\n",
        "\n",
        "\n",
        "plt.title(title_str)\n",
        "plt.imshow(img, cmap='gray')\n",
        "plt.show()"
      ],
      "execution_count": 13,
      "outputs": [
        {
          "output_type": "stream",
          "text": [
            "len of index_label_prediction_list =>  65 , false_data_index =>  57\n"
          ],
          "name": "stdout"
        },
        {
          "output_type": "display_data",
          "data": {
            "image/png": "[encoded data removed]",
            "text/plain": [
              "<Figure size 432x288 with 1 Axes>"
            ]
          },
          "metadata": {
            "tags": [],
            "needs_background": "light"
          }
        }
      ]
    },
    {
      "cell_type": "code",
      "metadata": {
        "id": "3j2siXRfFGNd"
      },
      "source": [
        ""
      ],
      "execution_count": null,
      "outputs": []
    }
  ]
}