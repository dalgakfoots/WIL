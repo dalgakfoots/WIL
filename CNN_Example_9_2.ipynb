{
  "nbformat": 4,
  "nbformat_minor": 0,
  "metadata": {
    "anaconda-cloud": {},
    "kernelspec": {
      "display_name": "Python 3",
      "language": "python",
      "name": "python3"
    },
    "language_info": {
      "codemirror_mode": {
        "name": "ipython",
        "version": 3
      },
      "file_extension": ".py",
      "mimetype": "text/x-python",
      "name": "python",
      "nbconvert_exporter": "python",
      "pygments_lexer": "ipython3",
      "version": "3.7.3"
    },
    "colab": {
      "name": "CNN_Example_9_2.ipynb",
      "provenance": [],
      "collapsed_sections": []
    },
    "accelerator": "GPU"
  },
  "cells": [
    {
      "cell_type": "markdown",
      "metadata": {
        "id": "QhlcaDISYinr"
      },
      "source": [
        "### [예제 9_2] CNN_Example_9_2\n",
        "\n",
        "3 conv / 1 flatten CNN architecture\n",
        "\n",
        "index_label_prediction list 구현\n",
        "\n",
        "각 층에서의 tf.conv2d(..), tf.max_pooling(..) 리턴값에 대한 insight"
      ]
    },
    {
      "cell_type": "code",
      "metadata": {
        "id": "375adElZYinw",
        "colab": {
          "base_uri": "https://localhost:8080/"
        },
        "outputId": "a64c2a0c-fddd-48a9-a5d0-47d5bfde6770"
      },
      "source": [
        "%tensorflow_version 1.x"
      ],
      "execution_count": 1,
      "outputs": [
        {
          "output_type": "stream",
          "text": [
            "TensorFlow 1.x selected.\n"
          ],
          "name": "stdout"
        }
      ]
    },
    {
      "cell_type": "code",
      "metadata": {
        "id": "hDaUKurbYin3",
        "colab": {
          "base_uri": "https://localhost:8080/"
        },
        "outputId": "c6df89e1-d89d-48b1-a820-8a6c223ab959"
      },
      "source": [
        "import tensorflow as tf\n",
        "from tensorflow.examples.tutorials.mnist import input_data\n",
        "import numpy as np\n",
        "from datetime import datetime      # datetime.now() 를 이용하여 학습 경과 시간 측정\n",
        "import matplotlib.pyplot as plt\n",
        "\n",
        "# read_data_sets() 를 통해 데이터를 객체형태로 받아오고\n",
        "# one_hot 옵션을 통해 정답(label) 을 one-hot 인코딩된 형태로 받아옴\n",
        "\n",
        "mnist = input_data.read_data_sets(\"MNIST_data/\", one_hot=True)\n",
        "\n",
        "# mnist 데이터 셋은 train, test, validation 3개의 데이터 셋으로 구성되어 있으며.\n",
        "# num_examples 값을 통해 데이터의 갯수 확인 가능함\n",
        "\n",
        "print(\"\\n\", mnist.train.num_examples, mnist.test.num_examples, mnist.validation.num_examples)\n",
        "\n",
        "# 데이터는 784(28x28)개의 픽셀을 가지는 이미지와\n",
        "# 10(0~9)개 클래스를 가지는 one-hot 인코딩된 레이블(정답)을 가지고 있음\n",
        "\n",
        "print(\"\\ntrain image shape = \", np.shape(mnist.train.images))\n",
        "print(\"train label shape = \", np.shape(mnist.train.labels))\n",
        "print(\"test image shape = \", np.shape(mnist.test.images))\n",
        "print(\"test label shape = \", np.shape(mnist.test.labels))"
      ],
      "execution_count": 2,
      "outputs": [
        {
          "output_type": "stream",
          "text": [
            "WARNING:tensorflow:From <ipython-input-2-490d31805250>:10: read_data_sets (from tensorflow.contrib.learn.python.learn.datasets.mnist) is deprecated and will be removed in a future version.\n",
            "Instructions for updating:\n",
            "Please use alternatives such as official/mnist/dataset.py from tensorflow/models.\n",
            "WARNING:tensorflow:From /tensorflow-1.15.2/python3.6/tensorflow_core/contrib/learn/python/learn/datasets/mnist.py:260: maybe_download (from tensorflow.contrib.learn.python.learn.datasets.base) is deprecated and will be removed in a future version.\n",
            "Instructions for updating:\n",
            "Please write your own downloading logic.\n",
            "WARNING:tensorflow:From /tensorflow-1.15.2/python3.6/tensorflow_core/contrib/learn/python/learn/datasets/base.py:252: _internal_retry.<locals>.wrap.<locals>.wrapped_fn (from tensorflow.contrib.learn.python.learn.datasets.base) is deprecated and will be removed in a future version.\n",
            "Instructions for updating:\n",
            "Please use urllib or similar directly.\n",
            "Successfully downloaded train-images-idx3-ubyte.gz 9912422 bytes.\n",
            "WARNING:tensorflow:From /tensorflow-1.15.2/python3.6/tensorflow_core/contrib/learn/python/learn/datasets/mnist.py:262: extract_images (from tensorflow.contrib.learn.python.learn.datasets.mnist) is deprecated and will be removed in a future version.\n",
            "Instructions for updating:\n",
            "Please use tf.data to implement this functionality.\n",
            "Extracting MNIST_data/train-images-idx3-ubyte.gz\n",
            "Successfully downloaded train-labels-idx1-ubyte.gz 28881 bytes.\n",
            "WARNING:tensorflow:From /tensorflow-1.15.2/python3.6/tensorflow_core/contrib/learn/python/learn/datasets/mnist.py:267: extract_labels (from tensorflow.contrib.learn.python.learn.datasets.mnist) is deprecated and will be removed in a future version.\n",
            "Instructions for updating:\n",
            "Please use tf.data to implement this functionality.\n",
            "Extracting MNIST_data/train-labels-idx1-ubyte.gz\n",
            "WARNING:tensorflow:From /tensorflow-1.15.2/python3.6/tensorflow_core/contrib/learn/python/learn/datasets/mnist.py:110: dense_to_one_hot (from tensorflow.contrib.learn.python.learn.datasets.mnist) is deprecated and will be removed in a future version.\n",
            "Instructions for updating:\n",
            "Please use tf.one_hot on tensors.\n",
            "Successfully downloaded t10k-images-idx3-ubyte.gz 1648877 bytes.\n",
            "Extracting MNIST_data/t10k-images-idx3-ubyte.gz\n",
            "Successfully downloaded t10k-labels-idx1-ubyte.gz 4542 bytes.\n",
            "Extracting MNIST_data/t10k-labels-idx1-ubyte.gz\n",
            "WARNING:tensorflow:From /tensorflow-1.15.2/python3.6/tensorflow_core/contrib/learn/python/learn/datasets/mnist.py:290: DataSet.__init__ (from tensorflow.contrib.learn.python.learn.datasets.mnist) is deprecated and will be removed in a future version.\n",
            "Instructions for updating:\n",
            "Please use alternatives such as official/mnist/dataset.py from tensorflow/models.\n",
            "\n",
            " 55000 10000 5000\n",
            "\n",
            "train image shape =  (55000, 784)\n",
            "train label shape =  (55000, 10)\n",
            "test image shape =  (10000, 784)\n",
            "test label shape =  (10000, 10)\n"
          ],
          "name": "stdout"
        }
      ]
    },
    {
      "cell_type": "code",
      "metadata": {
        "id": "FpEAYg62YioB"
      },
      "source": [
        "# Hyper-Parameter\n",
        "learning_rate = 0.001  # 학습율\n",
        "epochs = 50            # 반복횟수\n",
        "batch_size = 100      # 한번에 입력으로 주어지는 MNIST 개수"
      ],
      "execution_count": 3,
      "outputs": []
    },
    {
      "cell_type": "code",
      "metadata": {
        "id": "7x3Nct2gYioH"
      },
      "source": [
        "# 입력과 정답을 위한 플레이스홀더 정의\n",
        "X = tf.placeholder(tf.float32, [None, 784])  \n",
        "\n",
        "T = tf.placeholder(tf.float32, [None, 10])  \n",
        "\n",
        "# 입력층의 출력 값. 컨볼루션 연산을 위해 reshape 시킴\n",
        "A1 = X_img = tf.reshape(X, [-1, 28, 28, 1])   # image 28 X 28 X 1 (black/white)"
      ],
      "execution_count": 4,
      "outputs": []
    },
    {
      "cell_type": "code",
      "metadata": {
        "id": "2ozxIxDwYioN"
      },
      "source": [
        "# 1번째 컨볼루션 층\n",
        "# 3X3기를 가지는 32개의 필터를 적용\n",
        "\n",
        "F2 = tf.Variable(tf.random_normal([3, 3, 1, 32], stddev=0.01))  \n",
        "b2 = tf.Variable(tf.constant(0.1, shape=[32]))   \n",
        "\n",
        "# 1번째 컨볼루션 연산을 통해 28 X 28 X1  => 28 X 28 X 32 \n",
        "C2 = tf.nn.conv2d(A1, F2, strides=[1, 1, 1, 1], padding='SAME')\n",
        "\n",
        "# relu\n",
        "Z2 = tf.nn.relu(C2+b2)\n",
        "\n",
        "# 1번째 max pooling을 통해 28 X 28 X 32  => 14 X 14 X 32 \n",
        "A2 = P2 = tf.nn.max_pool(Z2, ksize=[1, 2, 2, 1], strides=[1, 2, 2, 1], padding='SAME')"
      ],
      "execution_count": 5,
      "outputs": []
    },
    {
      "cell_type": "code",
      "metadata": {
        "id": "0rYoh31kYioT"
      },
      "source": [
        "# 2번째 컨볼루션 층\n",
        "F3 = tf.Variable(tf.random_normal([3, 3, 32, 64], stddev=0.01))  \n",
        "b3 = tf.Variable(tf.constant(0.1, shape=[64]))   \n",
        "\n",
        "# 2번째 컨볼루션 연산을 통해 14 X 14 X 32 => 14 X 14 X 64 \n",
        "C3 = tf.nn.conv2d(A2, F3, strides=[1, 1, 1, 1], padding='SAME')\n",
        "\n",
        "# relu\n",
        "Z3 = tf.nn.relu(C3+b3)\n",
        "\n",
        "# 2번째 max pooling을 통해 14 X 14 X 64 => 7 X 7 X 64\n",
        "A3 = P3 = tf.nn.max_pool(Z3, ksize=[1, 2, 2, 1], strides=[1, 2, 2, 1], padding='SAME')"
      ],
      "execution_count": 6,
      "outputs": []
    },
    {
      "cell_type": "code",
      "metadata": {
        "id": "zxEk4s0PYioY"
      },
      "source": [
        "# 3번째 컨볼루션 층\n",
        "F4 = tf.Variable(tf.random_normal([3, 3, 64, 128], stddev=0.01))  \n",
        "b4 = tf.Variable(tf.constant(0.1, shape=[128]))   \n",
        "\n",
        "# 3번째 컨볼루션 연산을 통해 7 X 7 X 64 => 7 X 7 X 128\n",
        "C4 = tf.nn.conv2d(A3, F4, strides=[1, 1, 1, 1], padding='SAME')\n",
        "\n",
        "# relu\n",
        "Z4 = tf.nn.relu(C4+b4)\n",
        "\n",
        "# 3번째 max pooling을 통해 7 X 7 X 128 => 4 X 4 X 128\n",
        "A4 = tf.nn.max_pool(Z4, ksize=[1, 2, 2, 1], strides=[1, 2, 2, 1], padding='SAME')"
      ],
      "execution_count": 7,
      "outputs": []
    },
    {
      "cell_type": "code",
      "metadata": {
        "id": "0m4u5LcbYioi"
      },
      "source": [
        "# 4x4크기를 가진 128개의 activation map을 flatten 시킴\n",
        "A4_flat = P4_flat = tf.reshape(A4, [-1, 128*4*4])"
      ],
      "execution_count": 8,
      "outputs": []
    },
    {
      "cell_type": "code",
      "metadata": {
        "id": "NegIJhcLYioo"
      },
      "source": [
        "# 출력층\n",
        "W5 = tf.Variable(tf.random_normal([128*4*4, 10], stddev=0.01))\n",
        "b5= tf.Variable(tf.random_normal([10]))\n",
        "\n",
        "# 출력층 선형회귀  값 Z5, 즉 softmax 에 들어가는 입력 값\n",
        "Z5 = logits = tf.matmul(A4_flat, W5) + b5    # 선형회귀 값 Z5\n",
        "\n",
        "y = A5 = tf.nn.softmax(Z5)"
      ],
      "execution_count": 9,
      "outputs": []
    },
    {
      "cell_type": "code",
      "metadata": {
        "id": "Fg_FTHuHYiot"
      },
      "source": [
        "loss = tf.reduce_mean( tf.nn.softmax_cross_entropy_with_logits_v2(logits=Z5, labels=T) )\n",
        "\n",
        "optimizer = tf.train.AdamOptimizer(learning_rate)\n",
        "\n",
        "train = optimizer.minimize(loss)  "
      ],
      "execution_count": 10,
      "outputs": []
    },
    {
      "cell_type": "code",
      "metadata": {
        "id": "UmCFZgTPYioy"
      },
      "source": [
        "# batch_size X 10 데이터에 대해 argmax를 통해 행단위로 비교함\n",
        "predicted_val = tf.equal( tf.argmax(A5, 1), tf.argmax(T, 1) )\n",
        "\n",
        "# batch_size X 10 의 True, False 를 1 또는 0 으로 변환\n",
        "accuracy = tf.reduce_mean(tf.cast(predicted_val, dtype=tf.float32))\n",
        "\n",
        "# index list 출력\n",
        "accuracy_index = tf.cast(predicted_val, dtype=tf.float32)\n",
        "\n",
        "# 예측값 처리\n",
        "predicted_list = tf.argmax(A5, 1)"
      ],
      "execution_count": 11,
      "outputs": []
    },
    {
      "cell_type": "code",
      "metadata": {
        "id": "hSpriRGRYio4",
        "colab": {
          "base_uri": "https://localhost:8080/"
        },
        "outputId": "e6b07f20-f1a4-47d7-b3e8-d1142592f0b8"
      },
      "source": [
        "index_label_prediction_list = []\n",
        "filter_ret_val_list = []\n",
        "conv_ret_val_list = []\n",
        "pooling_ret_val_list = []\n",
        "\n",
        "\n",
        "with  tf.Session()  as sess:\n",
        "    \n",
        "    sess.run(tf.global_variables_initializer())  # 변수 노드(tf.Variable) 초기화\n",
        "    \n",
        "    start_time = datetime.now()\n",
        "    \n",
        "    for i in range(epochs):    # 30 번 반복수행\n",
        "        \n",
        "        total_batch = int(mnist.train.num_examples / batch_size)  # 55,000 / 100\n",
        "\n",
        "        for step in range(total_batch):\n",
        "            \n",
        "            batch_x_data, batch_t_data = mnist.train.next_batch(batch_size)\n",
        "      \n",
        "            loss_val, _ = sess.run([loss, train], feed_dict={X: batch_x_data, T: batch_t_data})    \n",
        "        \n",
        "            if step % 100 == 0:\n",
        "                print(\"epochs = \", i, \", step = \", step, \", loss_val = \", loss_val)             \n",
        "    \n",
        "    end_time = datetime.now() \n",
        "    \n",
        "    print(\"\\nelapsed time = \", end_time - start_time) \n",
        "    \n",
        "    # Accuracy 확인\n",
        "    test_x_data = mnist.test.images    # 10000 X 784\n",
        "    test_t_data = mnist.test.labels    # 10000 X 10\n",
        "    \n",
        "    accuracy_val, predicted_list_val, index_label = sess.run([accuracy, predicted_list, accuracy_index], feed_dict={X: test_x_data, T: test_t_data})\n",
        "    \n",
        "    print('================================================================================')\n",
        "    F2_ret_val, C2_ret_val, A2_ret_val = sess.run([F2, C2, A2], feed_dict={X: test_x_data, T: test_t_data})\n",
        "    F3_ret_val, C3_ret_val, A3_ret_val = sess.run([F3, C3, A3], feed_dict={X: test_x_data, T: test_t_data})\n",
        "    F4_ret_val, C4_ret_val, A4_ret_val = sess.run([F4, C4, A4], feed_dict={X: test_x_data, T: test_t_data})\n",
        "    \n",
        "    filter_ret_val_list.append(F2_ret_val)   # filter on 1st conv layer\n",
        "    filter_ret_val_list.append(F3_ret_val)   # filter on 2nd conv layer\n",
        "    filter_ret_val_list.append(F4_ret_val)   # filter on 3rd conv layer\n",
        "    \n",
        "    conv_ret_val_list.append(C2_ret_val)     # conv on 1st conv layer\n",
        "    conv_ret_val_list.append(C3_ret_val)     # conv on 2nd conv layer\n",
        "    conv_ret_val_list.append(C4_ret_val)     # conv on 3rd conv layer\n",
        "    \n",
        "    pooling_ret_val_list.append(A2_ret_val)  # max pooling on 1st conv layer \n",
        "    pooling_ret_val_list.append(A3_ret_val)  # max pooling on 2nd conv layer \n",
        "    pooling_ret_val_list.append(A4_ret_val)  # max pooling on 3rd conv layer \n",
        "    \n",
        "    print('F2_ret_val.shape = ', F2_ret_val.shape, ', C2_ret_val.shape = ', C2_ret_val.shape, ', A2_ret_val.shape = ', A2_ret_val.shape)\n",
        "    print('F3_ret_val.shape = ', F3_ret_val.shape, ', C3_ret_val.shape = ', C3_ret_val.shape, ', A3_ret_val.shape = ', A3_ret_val.shape)\n",
        "    print('F4_ret_val.shape = ', F4_ret_val.shape, ', C4_ret_val.shape = ', C4_ret_val.shape, ', A4_ret_val.shape = ', A4_ret_val.shape)\n",
        "    print('================================================================================')\n",
        "    \n",
        "    \n",
        "    print(\"\\nAccuracy = \", accuracy_val)\n",
        "    print(\"type(accuracy_val) = \", type(accuracy_val), ', type(predicted_list_val) = ', type(predicted_list_val), ', type(index_label) = ', type(index_label))\n",
        "    print(\"index_label.shape = \", index_label.shape)\n",
        "    \n",
        "    index_label_list = list(index_label)\n",
        "    print(\"length of index_label_list = \", len(index_label_list))\n",
        "    print(\"false label count = \", index_label_list.count([0]))\n",
        "    \n",
        "    \n",
        "    temp_list = [] \n",
        "    \n",
        "    for index in range(len(index_label)):\n",
        "        \n",
        "        if index_label[index] == 0:\n",
        "            \n",
        "            temp_list.append(index)\n",
        "            temp_list.append(np.argmax(test_t_data[index]))  # one-hot encoding 이므로 argmax 로 정답 추출\n",
        "            temp_list.append(predicted_list_val[index])\n",
        "            \n",
        "            index_label_prediction_list.append(temp_list)\n",
        "            \n",
        "            temp_list = []\n",
        "            \n",
        "    print(\"\\nlength of index_label_false_list\", len(index_label_prediction_list))"
      ],
      "execution_count": 12,
      "outputs": [
        {
          "output_type": "stream",
          "text": [
            "epochs =  0 , step =  0 , loss_val =  2.6494794\n",
            "epochs =  0 , step =  100 , loss_val =  2.335511\n",
            "epochs =  0 , step =  200 , loss_val =  0.3521664\n",
            "epochs =  0 , step =  300 , loss_val =  0.13155326\n",
            "epochs =  0 , step =  400 , loss_val =  0.283541\n",
            "epochs =  0 , step =  500 , loss_val =  0.05142344\n",
            "epochs =  1 , step =  0 , loss_val =  0.0741401\n",
            "epochs =  1 , step =  100 , loss_val =  0.07524903\n",
            "epochs =  1 , step =  200 , loss_val =  0.18229435\n",
            "epochs =  1 , step =  300 , loss_val =  0.10747021\n",
            "epochs =  1 , step =  400 , loss_val =  0.037099417\n",
            "epochs =  1 , step =  500 , loss_val =  0.08727397\n",
            "epochs =  2 , step =  0 , loss_val =  0.023649065\n",
            "epochs =  2 , step =  100 , loss_val =  0.008763984\n",
            "epochs =  2 , step =  200 , loss_val =  0.012220603\n",
            "epochs =  2 , step =  300 , loss_val =  0.11853367\n",
            "epochs =  2 , step =  400 , loss_val =  0.096991256\n",
            "epochs =  2 , step =  500 , loss_val =  0.09233427\n",
            "epochs =  3 , step =  0 , loss_val =  0.037023418\n",
            "epochs =  3 , step =  100 , loss_val =  0.007000774\n",
            "epochs =  3 , step =  200 , loss_val =  0.046751037\n",
            "epochs =  3 , step =  300 , loss_val =  0.014733875\n",
            "epochs =  3 , step =  400 , loss_val =  0.086779214\n",
            "epochs =  3 , step =  500 , loss_val =  0.036018476\n",
            "epochs =  4 , step =  0 , loss_val =  0.005272276\n",
            "epochs =  4 , step =  100 , loss_val =  0.0489981\n",
            "epochs =  4 , step =  200 , loss_val =  0.016284898\n",
            "epochs =  4 , step =  300 , loss_val =  0.04512988\n",
            "epochs =  4 , step =  400 , loss_val =  0.0032712119\n",
            "epochs =  4 , step =  500 , loss_val =  0.03297874\n",
            "epochs =  5 , step =  0 , loss_val =  0.002457553\n",
            "epochs =  5 , step =  100 , loss_val =  0.015486376\n",
            "epochs =  5 , step =  200 , loss_val =  0.038761277\n",
            "epochs =  5 , step =  300 , loss_val =  0.01378892\n",
            "epochs =  5 , step =  400 , loss_val =  0.0026596722\n",
            "epochs =  5 , step =  500 , loss_val =  0.0036409905\n",
            "epochs =  6 , step =  0 , loss_val =  0.010706877\n",
            "epochs =  6 , step =  100 , loss_val =  0.014964841\n",
            "epochs =  6 , step =  200 , loss_val =  0.0029005203\n",
            "epochs =  6 , step =  300 , loss_val =  0.0028781232\n",
            "epochs =  6 , step =  400 , loss_val =  0.007890656\n",
            "epochs =  6 , step =  500 , loss_val =  0.0001802836\n",
            "epochs =  7 , step =  0 , loss_val =  0.0064787692\n",
            "epochs =  7 , step =  100 , loss_val =  0.040388178\n",
            "epochs =  7 , step =  200 , loss_val =  0.009530987\n",
            "epochs =  7 , step =  300 , loss_val =  0.021325178\n",
            "epochs =  7 , step =  400 , loss_val =  0.007615037\n",
            "epochs =  7 , step =  500 , loss_val =  0.028709248\n",
            "epochs =  8 , step =  0 , loss_val =  0.0023630094\n",
            "epochs =  8 , step =  100 , loss_val =  0.00047745847\n",
            "epochs =  8 , step =  200 , loss_val =  0.005719825\n",
            "epochs =  8 , step =  300 , loss_val =  0.001884175\n",
            "epochs =  8 , step =  400 , loss_val =  0.0011385292\n",
            "epochs =  8 , step =  500 , loss_val =  0.0044906796\n",
            "epochs =  9 , step =  0 , loss_val =  0.012479118\n",
            "epochs =  9 , step =  100 , loss_val =  0.0016122323\n",
            "epochs =  9 , step =  200 , loss_val =  0.0055148886\n",
            "epochs =  9 , step =  300 , loss_val =  0.0025327238\n",
            "epochs =  9 , step =  400 , loss_val =  0.011798195\n",
            "epochs =  9 , step =  500 , loss_val =  0.0007580593\n",
            "epochs =  10 , step =  0 , loss_val =  6.87163e-05\n",
            "epochs =  10 , step =  100 , loss_val =  0.0054426044\n",
            "epochs =  10 , step =  200 , loss_val =  0.0034547674\n",
            "epochs =  10 , step =  300 , loss_val =  0.010804158\n",
            "epochs =  10 , step =  400 , loss_val =  0.0075873504\n",
            "epochs =  10 , step =  500 , loss_val =  0.00016235707\n",
            "epochs =  11 , step =  0 , loss_val =  0.005539084\n",
            "epochs =  11 , step =  100 , loss_val =  0.0001065122\n",
            "epochs =  11 , step =  200 , loss_val =  0.0005076459\n",
            "epochs =  11 , step =  300 , loss_val =  0.00032217716\n",
            "epochs =  11 , step =  400 , loss_val =  0.09903429\n",
            "epochs =  11 , step =  500 , loss_val =  8.1560895e-05\n",
            "epochs =  12 , step =  0 , loss_val =  0.00043401466\n",
            "epochs =  12 , step =  100 , loss_val =  0.010077848\n",
            "epochs =  12 , step =  200 , loss_val =  0.0029229838\n",
            "epochs =  12 , step =  300 , loss_val =  0.0010485015\n",
            "epochs =  12 , step =  400 , loss_val =  0.038892206\n",
            "epochs =  12 , step =  500 , loss_val =  0.0014141037\n",
            "epochs =  13 , step =  0 , loss_val =  0.00030687253\n",
            "epochs =  13 , step =  100 , loss_val =  0.0022177636\n",
            "epochs =  13 , step =  200 , loss_val =  0.00014975415\n",
            "epochs =  13 , step =  300 , loss_val =  0.027617913\n",
            "epochs =  13 , step =  400 , loss_val =  0.000177844\n",
            "epochs =  13 , step =  500 , loss_val =  0.14133367\n",
            "epochs =  14 , step =  0 , loss_val =  0.0009270943\n",
            "epochs =  14 , step =  100 , loss_val =  0.00034246503\n",
            "epochs =  14 , step =  200 , loss_val =  0.0018609351\n",
            "epochs =  14 , step =  300 , loss_val =  0.00011131955\n",
            "epochs =  14 , step =  400 , loss_val =  0.0017662364\n",
            "epochs =  14 , step =  500 , loss_val =  0.012316032\n",
            "epochs =  15 , step =  0 , loss_val =  0.0017474273\n",
            "epochs =  15 , step =  100 , loss_val =  0.0014854174\n",
            "epochs =  15 , step =  200 , loss_val =  0.00011153706\n",
            "epochs =  15 , step =  300 , loss_val =  0.00010977597\n",
            "epochs =  15 , step =  400 , loss_val =  0.00034827468\n",
            "epochs =  15 , step =  500 , loss_val =  0.002600192\n",
            "epochs =  16 , step =  0 , loss_val =  0.0137153445\n",
            "epochs =  16 , step =  100 , loss_val =  0.00026160877\n",
            "epochs =  16 , step =  200 , loss_val =  0.0006251285\n",
            "epochs =  16 , step =  300 , loss_val =  0.040954527\n",
            "epochs =  16 , step =  400 , loss_val =  0.0013966794\n",
            "epochs =  16 , step =  500 , loss_val =  0.00026270383\n",
            "epochs =  17 , step =  0 , loss_val =  0.00041435115\n",
            "epochs =  17 , step =  100 , loss_val =  0.0001639681\n",
            "epochs =  17 , step =  200 , loss_val =  0.00015773602\n",
            "epochs =  17 , step =  300 , loss_val =  0.0005573498\n",
            "epochs =  17 , step =  400 , loss_val =  0.00029214725\n",
            "epochs =  17 , step =  500 , loss_val =  0.0024669084\n",
            "epochs =  18 , step =  0 , loss_val =  0.0023664678\n",
            "epochs =  18 , step =  100 , loss_val =  0.0012307836\n",
            "epochs =  18 , step =  200 , loss_val =  0.0012023946\n",
            "epochs =  18 , step =  300 , loss_val =  0.004600647\n",
            "epochs =  18 , step =  400 , loss_val =  0.0037669963\n",
            "epochs =  18 , step =  500 , loss_val =  4.4724668e-05\n",
            "epochs =  19 , step =  0 , loss_val =  1.7309567e-05\n",
            "epochs =  19 , step =  100 , loss_val =  0.00014325687\n",
            "epochs =  19 , step =  200 , loss_val =  0.00023442358\n",
            "epochs =  19 , step =  300 , loss_val =  0.00026820306\n",
            "epochs =  19 , step =  400 , loss_val =  0.00030685827\n",
            "epochs =  19 , step =  500 , loss_val =  7.696562e-06\n",
            "epochs =  20 , step =  0 , loss_val =  3.5344543e-05\n",
            "epochs =  20 , step =  100 , loss_val =  0.000117392425\n",
            "epochs =  20 , step =  200 , loss_val =  4.320026e-05\n",
            "epochs =  20 , step =  300 , loss_val =  1.271077e-05\n",
            "epochs =  20 , step =  400 , loss_val =  0.009548094\n",
            "epochs =  20 , step =  500 , loss_val =  0.0010387553\n",
            "epochs =  21 , step =  0 , loss_val =  5.5067547e-05\n",
            "epochs =  21 , step =  100 , loss_val =  1.6344546e-05\n",
            "epochs =  21 , step =  200 , loss_val =  0.0005276289\n",
            "epochs =  21 , step =  300 , loss_val =  0.0011448049\n",
            "epochs =  21 , step =  400 , loss_val =  0.0007387602\n",
            "epochs =  21 , step =  500 , loss_val =  0.0057925177\n",
            "epochs =  22 , step =  0 , loss_val =  0.00040432028\n",
            "epochs =  22 , step =  100 , loss_val =  0.0023647714\n",
            "epochs =  22 , step =  200 , loss_val =  0.0005888515\n",
            "epochs =  22 , step =  300 , loss_val =  0.00087646453\n",
            "epochs =  22 , step =  400 , loss_val =  0.0013490097\n",
            "epochs =  22 , step =  500 , loss_val =  0.00024796394\n",
            "epochs =  23 , step =  0 , loss_val =  0.0071253506\n",
            "epochs =  23 , step =  100 , loss_val =  4.2899777e-05\n",
            "epochs =  23 , step =  200 , loss_val =  0.00044705364\n",
            "epochs =  23 , step =  300 , loss_val =  0.00030789274\n",
            "epochs =  23 , step =  400 , loss_val =  0.0008816644\n",
            "epochs =  23 , step =  500 , loss_val =  0.00014143602\n",
            "epochs =  24 , step =  0 , loss_val =  0.00027806446\n",
            "epochs =  24 , step =  100 , loss_val =  0.0014678467\n",
            "epochs =  24 , step =  200 , loss_val =  1.5365807e-06\n",
            "epochs =  24 , step =  300 , loss_val =  0.00012807625\n",
            "epochs =  24 , step =  400 , loss_val =  0.002001815\n",
            "epochs =  24 , step =  500 , loss_val =  3.0049447e-05\n",
            "epochs =  25 , step =  0 , loss_val =  4.918936e-06\n",
            "epochs =  25 , step =  100 , loss_val =  0.00018087187\n",
            "epochs =  25 , step =  200 , loss_val =  0.0020378048\n",
            "epochs =  25 , step =  300 , loss_val =  0.0120362975\n",
            "epochs =  25 , step =  400 , loss_val =  0.00051969546\n",
            "epochs =  25 , step =  500 , loss_val =  0.0033919143\n",
            "epochs =  26 , step =  0 , loss_val =  0.037222724\n",
            "epochs =  26 , step =  100 , loss_val =  0.000392716\n",
            "epochs =  26 , step =  200 , loss_val =  8.521558e-06\n",
            "epochs =  26 , step =  300 , loss_val =  0.00038069725\n",
            "epochs =  26 , step =  400 , loss_val =  0.00045723232\n",
            "epochs =  26 , step =  500 , loss_val =  0.00013945154\n",
            "epochs =  27 , step =  0 , loss_val =  0.00022242723\n",
            "epochs =  27 , step =  100 , loss_val =  9.558184e-06\n",
            "epochs =  27 , step =  200 , loss_val =  6.2601525e-06\n",
            "epochs =  27 , step =  300 , loss_val =  0.0001511092\n",
            "epochs =  27 , step =  400 , loss_val =  5.4132946e-05\n",
            "epochs =  27 , step =  500 , loss_val =  8.083711e-06\n",
            "epochs =  28 , step =  0 , loss_val =  0.006206378\n",
            "epochs =  28 , step =  100 , loss_val =  0.0027181718\n",
            "epochs =  28 , step =  200 , loss_val =  2.4592086e-05\n",
            "epochs =  28 , step =  300 , loss_val =  9.9247976e-05\n",
            "epochs =  28 , step =  400 , loss_val =  0.00023912883\n",
            "epochs =  28 , step =  500 , loss_val =  1.9876385e-05\n",
            "epochs =  29 , step =  0 , loss_val =  0.0077269496\n",
            "epochs =  29 , step =  100 , loss_val =  8.4092695e-05\n",
            "epochs =  29 , step =  200 , loss_val =  8.9104826e-05\n",
            "epochs =  29 , step =  300 , loss_val =  9.6503034e-05\n",
            "epochs =  29 , step =  400 , loss_val =  0.00027408914\n",
            "epochs =  29 , step =  500 , loss_val =  5.133891e-06\n",
            "epochs =  30 , step =  0 , loss_val =  1.1373047e-05\n",
            "epochs =  30 , step =  100 , loss_val =  0.011136725\n",
            "epochs =  30 , step =  200 , loss_val =  0.0004803687\n",
            "epochs =  30 , step =  300 , loss_val =  0.0010761836\n",
            "epochs =  30 , step =  400 , loss_val =  0.025547797\n",
            "epochs =  30 , step =  500 , loss_val =  0.00043745854\n",
            "epochs =  31 , step =  0 , loss_val =  5.435681e-06\n",
            "epochs =  31 , step =  100 , loss_val =  0.00032953883\n",
            "epochs =  31 , step =  200 , loss_val =  0.0011699076\n",
            "epochs =  31 , step =  300 , loss_val =  2.6427026e-06\n",
            "epochs =  31 , step =  400 , loss_val =  3.0442473e-06\n",
            "epochs =  31 , step =  500 , loss_val =  2.1790842e-05\n",
            "epochs =  32 , step =  0 , loss_val =  0.009990264\n",
            "epochs =  32 , step =  100 , loss_val =  0.00043281697\n",
            "epochs =  32 , step =  200 , loss_val =  0.00019675534\n",
            "epochs =  32 , step =  300 , loss_val =  4.3017357e-05\n",
            "epochs =  32 , step =  400 , loss_val =  0.00041602008\n",
            "epochs =  32 , step =  500 , loss_val =  4.3948137e-05\n",
            "epochs =  33 , step =  0 , loss_val =  2.8120801e-05\n",
            "epochs =  33 , step =  100 , loss_val =  5.1866173e-05\n",
            "epochs =  33 , step =  200 , loss_val =  4.9002698e-05\n",
            "epochs =  33 , step =  300 , loss_val =  0.00072668435\n",
            "epochs =  33 , step =  400 , loss_val =  8.2739125e-06\n",
            "epochs =  33 , step =  500 , loss_val =  1.6760116e-06\n",
            "epochs =  34 , step =  0 , loss_val =  0.004125093\n",
            "epochs =  34 , step =  100 , loss_val =  1.1253092e-06\n",
            "epochs =  34 , step =  200 , loss_val =  0.038583986\n",
            "epochs =  34 , step =  300 , loss_val =  5.7935176e-07\n",
            "epochs =  34 , step =  400 , loss_val =  0.00205991\n",
            "epochs =  34 , step =  500 , loss_val =  0.0034861905\n",
            "epochs =  35 , step =  0 , loss_val =  0.001308519\n",
            "epochs =  35 , step =  100 , loss_val =  4.7306385e-05\n",
            "epochs =  35 , step =  200 , loss_val =  2.2851527e-06\n",
            "epochs =  35 , step =  300 , loss_val =  9.177302e-06\n",
            "epochs =  35 , step =  400 , loss_val =  0.00029837678\n",
            "epochs =  35 , step =  500 , loss_val =  1.3654409e-05\n",
            "epochs =  36 , step =  0 , loss_val =  7.367709e-05\n",
            "epochs =  36 , step =  100 , loss_val =  6.9833484e-05\n",
            "epochs =  36 , step =  200 , loss_val =  6.5460496e-05\n",
            "epochs =  36 , step =  300 , loss_val =  0.006351639\n",
            "epochs =  36 , step =  400 , loss_val =  0.00086451456\n",
            "epochs =  36 , step =  500 , loss_val =  0.00020107394\n",
            "epochs =  37 , step =  0 , loss_val =  0.00082878553\n",
            "epochs =  37 , step =  100 , loss_val =  8.70012e-06\n",
            "epochs =  37 , step =  200 , loss_val =  0.0013019607\n",
            "epochs =  37 , step =  300 , loss_val =  4.9002323e-05\n",
            "epochs =  37 , step =  400 , loss_val =  4.458398e-07\n",
            "epochs =  37 , step =  500 , loss_val =  7.537466e-05\n",
            "epochs =  38 , step =  0 , loss_val =  5.2451984e-08\n",
            "epochs =  38 , step =  100 , loss_val =  5.5265277e-06\n",
            "epochs =  38 , step =  200 , loss_val =  0.0059835524\n",
            "epochs =  38 , step =  300 , loss_val =  0.00046759658\n",
            "epochs =  38 , step =  400 , loss_val =  9.822522e-07\n",
            "epochs =  38 , step =  500 , loss_val =  5.486255e-06\n",
            "epochs =  39 , step =  0 , loss_val =  2.675916e-06\n",
            "epochs =  39 , step =  100 , loss_val =  1.1526971e-06\n",
            "epochs =  39 , step =  200 , loss_val =  1.8928737e-06\n",
            "epochs =  39 , step =  300 , loss_val =  5.4464394e-06\n",
            "epochs =  39 , step =  400 , loss_val =  1.521004e-06\n",
            "epochs =  39 , step =  500 , loss_val =  2.1026833e-06\n",
            "epochs =  40 , step =  0 , loss_val =  1.6819814e-06\n",
            "epochs =  40 , step =  100 , loss_val =  4.3233113e-06\n",
            "epochs =  40 , step =  200 , loss_val =  1.1489971e-05\n",
            "epochs =  40 , step =  300 , loss_val =  1.9073384e-07\n",
            "epochs =  40 , step =  400 , loss_val =  1.4305109e-08\n",
            "epochs =  40 , step =  500 , loss_val =  2.3727333e-05\n",
            "epochs =  41 , step =  0 , loss_val =  1.55682e-06\n",
            "epochs =  41 , step =  100 , loss_val =  4.0531116e-08\n",
            "epochs =  41 , step =  200 , loss_val =  3.421276e-07\n",
            "epochs =  41 , step =  300 , loss_val =  1.9907846e-07\n",
            "epochs =  41 , step =  400 , loss_val =  1.06095925e-07\n",
            "epochs =  41 , step =  500 , loss_val =  5.543103e-07\n",
            "epochs =  42 , step =  0 , loss_val =  2.1457662e-08\n",
            "epochs =  42 , step =  100 , loss_val =  1.01327736e-07\n",
            "epochs =  42 , step =  200 , loss_val =  3.4808556e-07\n",
            "epochs =  42 , step =  300 , loss_val =  2.3756209e-06\n",
            "epochs =  42 , step =  400 , loss_val =  3.4793445e-06\n",
            "epochs =  42 , step =  500 , loss_val =  2.8106285e-06\n",
            "epochs =  43 , step =  0 , loss_val =  9.89434e-08\n",
            "epochs =  43 , step =  100 , loss_val =  1.4816945e-06\n",
            "epochs =  43 , step =  200 , loss_val =  9.39335e-07\n",
            "epochs =  43 , step =  300 , loss_val =  1.0168302e-06\n",
            "epochs =  43 , step =  400 , loss_val =  3.7867658e-06\n",
            "epochs =  43 , step =  500 , loss_val =  1.4852435e-06\n",
            "epochs =  44 , step =  0 , loss_val =  1.5078914e-06\n",
            "epochs =  44 , step =  100 , loss_val =  1.978857e-07\n",
            "epochs =  44 , step =  200 , loss_val =  3.0620631e-06\n",
            "epochs =  44 , step =  300 , loss_val =  3.0346669e-06\n",
            "epochs =  44 , step =  400 , loss_val =  2.921594e-06\n",
            "epochs =  44 , step =  500 , loss_val =  5.125993e-08\n",
            "epochs =  45 , step =  0 , loss_val =  4.2676072e-07\n",
            "epochs =  45 , step =  100 , loss_val =  1.2051697e-06\n",
            "epochs =  45 , step =  200 , loss_val =  1.282653e-06\n",
            "epochs =  45 , step =  300 , loss_val =  5.1020294e-07\n",
            "epochs =  45 , step =  400 , loss_val =  2.4556834e-07\n",
            "epochs =  45 , step =  500 , loss_val =  1.5020292e-07\n",
            "epochs =  46 , step =  0 , loss_val =  2.2934428e-06\n",
            "epochs =  46 , step =  100 , loss_val =  2.286334e-06\n",
            "epochs =  46 , step =  200 , loss_val =  8.2489476e-07\n",
            "epochs =  46 , step =  300 , loss_val =  2.1815102e-07\n",
            "epochs =  46 , step =  400 , loss_val =  4.053079e-07\n",
            "epochs =  46 , step =  500 , loss_val =  1.680843e-07\n",
            "epochs =  47 , step =  0 , loss_val =  4.638655e-06\n",
            "epochs =  47 , step =  100 , loss_val =  6.389489e-07\n",
            "epochs =  47 , step =  200 , loss_val =  4.6133655e-07\n",
            "epochs =  47 , step =  300 , loss_val =  5.779961e-06\n",
            "epochs =  47 , step =  400 , loss_val =  0.0\n",
            "epochs =  47 , step =  500 , loss_val =  1.69276e-07\n",
            "epochs =  48 , step =  0 , loss_val =  5.761392e-06\n",
            "epochs =  48 , step =  100 , loss_val =  2.7537146e-07\n",
            "epochs =  48 , step =  200 , loss_val =  1.0609596e-07\n",
            "epochs =  48 , step =  300 , loss_val =  2.8371582e-07\n",
            "epochs =  48 , step =  400 , loss_val =  9.071636e-07\n",
            "epochs =  48 , step =  500 , loss_val =  1.0191993e-06\n",
            "epochs =  49 , step =  0 , loss_val =  2.3722507e-07\n",
            "epochs =  49 , step =  100 , loss_val =  1.1944579e-06\n",
            "epochs =  49 , step =  200 , loss_val =  3.5152802e-06\n",
            "epochs =  49 , step =  300 , loss_val =  1.1825326e-06\n",
            "epochs =  49 , step =  400 , loss_val =  9.727307e-07\n",
            "epochs =  49 , step =  500 , loss_val =  3.9219606e-07\n",
            "\n",
            "elapsed time =  0:02:01.808109\n",
            "================================================================================\n",
            "F2_ret_val.shape =  (3, 3, 1, 32) , C2_ret_val.shape =  (10000, 28, 28, 32) , A2_ret_val.shape =  (10000, 14, 14, 32)\n",
            "F3_ret_val.shape =  (3, 3, 32, 64) , C3_ret_val.shape =  (10000, 14, 14, 64) , A3_ret_val.shape =  (10000, 7, 7, 64)\n",
            "F4_ret_val.shape =  (3, 3, 64, 128) , C4_ret_val.shape =  (10000, 7, 7, 128) , A4_ret_val.shape =  (10000, 4, 4, 128)\n",
            "================================================================================\n",
            "\n",
            "Accuracy =  0.9933\n",
            "type(accuracy_val) =  <class 'numpy.float32'> , type(predicted_list_val) =  <class 'numpy.ndarray'> , type(index_label) =  <class 'numpy.ndarray'>\n",
            "index_label.shape =  (10000,)\n",
            "length of index_label_list =  10000\n",
            "false label count =  67\n",
            "\n",
            "length of index_label_false_list 67\n"
          ],
          "name": "stdout"
        }
      ]
    },
    {
      "cell_type": "code",
      "metadata": {
        "id": "C1SiUAQPYipB",
        "colab": {
          "base_uri": "https://localhost:8080/"
        },
        "outputId": "72845f0e-518c-4c43-fc79-fb0951a3dff6"
      },
      "source": [
        "# index_label_prediction_list\n",
        "print(index_label_prediction_list)"
      ],
      "execution_count": 13,
      "outputs": [
        {
          "output_type": "stream",
          "text": [
            "[[321, 2, 7], [340, 5, 3], [582, 8, 2], [583, 2, 7], [684, 7, 2], [947, 8, 9], [956, 1, 5], [1014, 6, 5], [1039, 7, 1], [1112, 4, 6], [1226, 7, 2], [1232, 9, 4], [1242, 4, 9], [1260, 7, 1], [1319, 8, 0], [1393, 5, 3], [1527, 1, 5], [1709, 9, 5], [1737, 5, 3], [1790, 2, 7], [1901, 9, 4], [1982, 6, 5], [2035, 5, 3], [2129, 9, 8], [2130, 4, 9], [2135, 6, 1], [2182, 1, 3], [2225, 8, 9], [2314, 7, 4], [2414, 9, 4], [2447, 4, 9], [2597, 5, 3], [2654, 6, 1], [2896, 8, 0], [2927, 3, 2], [2939, 9, 5], [2953, 3, 5], [3073, 1, 2], [3422, 6, 0], [3520, 6, 4], [3558, 5, 0], [3808, 7, 8], [4078, 9, 8], [4176, 2, 7], [4201, 1, 7], [4360, 5, 3], [4699, 6, 1], [4740, 3, 5], [4761, 9, 8], [4823, 9, 4], [4860, 4, 9], [5654, 7, 2], [5937, 5, 3], [6571, 9, 7], [6576, 7, 1], [6597, 0, 7], [6847, 6, 4], [7928, 1, 0], [7991, 9, 8], [8094, 2, 8], [8316, 7, 2], [8520, 4, 9], [9638, 9, 7], [9642, 9, 7], [9664, 2, 7], [9679, 6, 1], [9729, 5, 6]]\n"
          ],
          "name": "stdout"
        }
      ]
    },
    {
      "cell_type": "code",
      "metadata": {
        "id": "7sTpDTcDYipG"
      },
      "source": [
        "import numpy as np\n",
        "import matplotlib.pyplot as plt\n",
        "%matplotlib inline"
      ],
      "execution_count": 14,
      "outputs": []
    },
    {
      "cell_type": "code",
      "metadata": {
        "id": "FAoeX-ZIYipO",
        "colab": {
          "base_uri": "https://localhost:8080/",
          "height": 298
        },
        "outputId": "9a779378-b3b7-4e3a-ec9f-49ea7d604e4a"
      },
      "source": [
        "false_data_index = np.random.randint(len(index_label_prediction_list))\n",
        "\n",
        "print('len of index_label_prediction_list => ', len(index_label_prediction_list), ', false_data_index => ', false_data_index)\n",
        "\n",
        "mnist_index = index_label_prediction_list[false_data_index][0]\n",
        "label = index_label_prediction_list[false_data_index][1]\n",
        "prediction = index_label_prediction_list[false_data_index][2]\n",
        "\n",
        "title_str = 'index = ' + str(mnist_index) + ' , label = ' + str(label) + ' , prediction = ' + str(prediction)\n",
        "\n",
        "img = test_x_data[mnist_index].reshape(28,28)\n",
        "\n",
        "\n",
        "plt.title(title_str)\n",
        "plt.imshow(img, cmap='gray')\n",
        "plt.show()"
      ],
      "execution_count": 15,
      "outputs": [
        {
          "output_type": "stream",
          "text": [
            "len of index_label_prediction_list =>  67 , false_data_index =>  11\n"
          ],
          "name": "stdout"
        },
        {
          "output_type": "display_data",
          "data": {
            "image/png": "[encoded data removed]",
            "text/plain": [
              "<Figure size 432x288 with 1 Axes>"
            ]
          },
          "metadata": {
            "tags": [],
            "needs_background": "light"
          }
        }
      ]
    },
    {
      "cell_type": "markdown",
      "metadata": {
        "id": "ueKeHVLYYipT"
      },
      "source": [
        "### cond2d(...) 리턴 값 출력, 즉 필터에 의해 컨볼루션 연산된 이미지 출력 "
      ]
    },
    {
      "cell_type": "code",
      "metadata": {
        "id": "yHVB0AUfYipU",
        "colab": {
          "base_uri": "https://localhost:8080/",
          "height": 282
        },
        "outputId": "16712e64-5f09-41e2-e818-68e8a619848e"
      },
      "source": [
        "import numpy as np\n",
        "import matplotlib.pyplot as plt\n",
        "%matplotlib inline\n",
        "\n",
        "# conv_ret_val image 확인\n",
        "\n",
        "# conv_ret_val_list[0] => 1st conv layer \n",
        "# [9, :, :, 0] => 1번째 필터에 의해 컨볼루션 연산된 28 x 28 크기의 10번째 이미지 (즉, test_x_data[9] 데이터를 나타냄)\n",
        "\n",
        "plt.imshow(conv_ret_val_list[0][9, :, :, 0], cmap='gray')  "
      ],
      "execution_count": 16,
      "outputs": [
        {
          "output_type": "execute_result",
          "data": {
            "text/plain": [
              "<matplotlib.image.AxesImage at 0x7f3a081bba20>"
            ]
          },
          "metadata": {
            "tags": []
          },
          "execution_count": 16
        },
        {
          "output_type": "display_data",
          "data": {
            "image/png": "[encoded data removed]",
            "text/plain": [
              "<Figure size 432x288 with 1 Axes>"
            ]
          },
          "metadata": {
            "tags": [],
            "needs_background": "light"
          }
        }
      ]
    },
    {
      "cell_type": "code",
      "metadata": {
        "id": "Bkp245trYipZ",
        "colab": {
          "base_uri": "https://localhost:8080/",
          "height": 282
        },
        "outputId": "2e17c587-e95c-466f-fe64-3bdef5346f12"
      },
      "source": [
        "# conv_ret_val_list[1] => 2nd conv layer \n",
        "# [9, :, :, 0] => 1번째 필터에 의해 컨볼루션 연산된 14 x 14 크기의 10번째 이미지 (즉, test_x_data[9] 데이터를 나타냄)\n",
        "\n",
        "plt.imshow(conv_ret_val_list[1][9, :, :, 0], cmap='gray')  "
      ],
      "execution_count": 17,
      "outputs": [
        {
          "output_type": "execute_result",
          "data": {
            "text/plain": [
              "<matplotlib.image.AxesImage at 0x7f3a0819ee10>"
            ]
          },
          "metadata": {
            "tags": []
          },
          "execution_count": 17
        },
        {
          "output_type": "display_data",
          "data": {
            "image/png": "[encoded data removed]",
            "text/plain": [
              "<Figure size 432x288 with 1 Axes>"
            ]
          },
          "metadata": {
            "tags": [],
            "needs_background": "light"
          }
        }
      ]
    },
    {
      "cell_type": "code",
      "metadata": {
        "id": "lHkskH6iYiph",
        "colab": {
          "base_uri": "https://localhost:8080/",
          "height": 282
        },
        "outputId": "efaed7c4-e49b-4e2b-f451-d7526e100bc0"
      },
      "source": [
        "# conv_ret_val_list[2] => 3rd conv layer \n",
        "# [9, :, :, 0] => 1번째 필터에 의해 컨볼루션 연산된 7 x 7 크기의 10번째 이미지 (즉, test_x_data[9] 데이터를 나타냄)\n",
        "\n",
        "plt.imshow(conv_ret_val_list[2][9, :, :, 0], cmap='gray')  "
      ],
      "execution_count": 18,
      "outputs": [
        {
          "output_type": "execute_result",
          "data": {
            "text/plain": [
              "<matplotlib.image.AxesImage at 0x7f3a08152080>"
            ]
          },
          "metadata": {
            "tags": []
          },
          "execution_count": 18
        },
        {
          "output_type": "display_data",
          "data": {
            "image/png": "[encoded data removed]",
            "text/plain": [
              "<Figure size 432x288 with 1 Axes>"
            ]
          },
          "metadata": {
            "tags": [],
            "needs_background": "light"
          }
        }
      ]
    },
    {
      "cell_type": "markdown",
      "metadata": {
        "id": "h75vTfo1Yipm"
      },
      "source": [
        "### max_pool(...) 리턴 값 출력, 즉 max pooling 적용된 이미지 출력"
      ]
    },
    {
      "cell_type": "code",
      "metadata": {
        "id": "5fMDG01GYipn",
        "colab": {
          "base_uri": "https://localhost:8080/",
          "height": 282
        },
        "outputId": "8f8ba380-181a-48d0-dfc6-6f2e3a93dcb6"
      },
      "source": [
        "# pooling_ret_val_list[0] => 1st conv layer \n",
        "\n",
        "# [9, :, :, 0] => 1번째 필터에 의해 컨볼루션 연산된 후, max pooling 된 14 x 14 크기의 10번째 이미지 (즉, test_x_data[9] 데이터를 나타냄)\n",
        "\n",
        "plt.imshow(pooling_ret_val_list[0][9, :, :, 0], cmap='gray')  "
      ],
      "execution_count": 19,
      "outputs": [
        {
          "output_type": "execute_result",
          "data": {
            "text/plain": [
              "<matplotlib.image.AxesImage at 0x7f3a080cb0f0>"
            ]
          },
          "metadata": {
            "tags": []
          },
          "execution_count": 19
        },
        {
          "output_type": "display_data",
          "data": {
            "image/png": "[encoded data removed]",
            "text/plain": [
              "<Figure size 432x288 with 1 Axes>"
            ]
          },
          "metadata": {
            "tags": [],
            "needs_background": "light"
          }
        }
      ]
    },
    {
      "cell_type": "code",
      "metadata": {
        "id": "Wuo2kaM-Yipt",
        "colab": {
          "base_uri": "https://localhost:8080/",
          "height": 282
        },
        "outputId": "c61d3753-6541-41c8-ea94-9ae703a3d1b1"
      },
      "source": [
        "# pooling_ret_val_list[1] => 2nd conv layer \n",
        "\n",
        "# [9, :, :, 0] => 1번째 필터에 의해 컨볼루션 연산된 후, max pooling 된 7 x 7 크기의 10번째 이미지 (즉, test_x_data[9] 데이터를 나타냄)\n",
        "\n",
        "plt.imshow(pooling_ret_val_list[1][9, :, :, 0], cmap='gray')  "
      ],
      "execution_count": 20,
      "outputs": [
        {
          "output_type": "execute_result",
          "data": {
            "text/plain": [
              "<matplotlib.image.AxesImage at 0x7f3a080a6cf8>"
            ]
          },
          "metadata": {
            "tags": []
          },
          "execution_count": 20
        },
        {
          "output_type": "display_data",
          "data": {
            "image/png": "[encoded data removed]",
            "text/plain": [
              "<Figure size 432x288 with 1 Axes>"
            ]
          },
          "metadata": {
            "tags": [],
            "needs_background": "light"
          }
        }
      ]
    },
    {
      "cell_type": "code",
      "metadata": {
        "id": "htAzbnaXYipw",
        "colab": {
          "base_uri": "https://localhost:8080/",
          "height": 286
        },
        "outputId": "1870f001-a50c-4e57-b162-2287f48b7e30"
      },
      "source": [
        "# pooling_ret_val_list[2] => 3rd conv layer \n",
        "\n",
        "# [9, :, :, 0] => 1번째 필터에 의해 컨볼루션 연산된 후, max pooling 된 4 x 4 크기의 10번째 이미지 (즉, test_x_data[9] 데이터를 나타냄)\n",
        "\n",
        "plt.imshow(pooling_ret_val_list[2][9, :, :, 0], cmap='gray')  "
      ],
      "execution_count": 21,
      "outputs": [
        {
          "output_type": "execute_result",
          "data": {
            "text/plain": [
              "<matplotlib.image.AxesImage at 0x7f3a01fde7b8>"
            ]
          },
          "metadata": {
            "tags": []
          },
          "execution_count": 21
        },
        {
          "output_type": "display_data",
          "data": {
            "image/png": "[encoded data removed]",
            "text/plain": [
              "<Figure size 432x288 with 1 Axes>"
            ]
          },
          "metadata": {
            "tags": [],
            "needs_background": "light"
          }
        }
      ]
    },
    {
      "cell_type": "markdown",
      "metadata": {
        "id": "by6bPfqH9YA-"
      },
      "source": [
        "각 층에서의 이미지 출력"
      ]
    },
    {
      "cell_type": "code",
      "metadata": {
        "id": "rnbir0lAZxco",
        "colab": {
          "base_uri": "https://localhost:8080/",
          "height": 1000
        },
        "outputId": "c9645205-14c5-48d6-948b-84e68b16354e"
      },
      "source": [
        "# layer_index is 0 => conv1 layer\n",
        "# layer_index is 1 => conv2 layer\n",
        "# layer_index is 2 => conv3 layer\n",
        "\n",
        "for layer_index in range(3):\n",
        "\n",
        "    plt.imshow(conv_ret_val_list[layer_index][9, :, :, 0], cmap='gray')  \n",
        "    plt.show()\n",
        "    print('========== convolution image ==========')\n",
        "\n",
        "    plt.imshow(pooling_ret_val_list[layer_index][9, :, :, 0], cmap='gray')\n",
        "    plt.show()\n",
        "    print('========== max pooling image ==========')\n",
        "\n",
        "    print('\\n')\n"
      ],
      "execution_count": 22,
      "outputs": [
        {
          "output_type": "display_data",
          "data": {
            "image/png": "[encoded data removed]",
            "text/plain": [
              "<Figure size 432x288 with 1 Axes>"
            ]
          },
          "metadata": {
            "tags": [],
            "needs_background": "light"
          }
        },
        {
          "output_type": "stream",
          "text": [
            "========== convolution image ==========\n"
          ],
          "name": "stdout"
        },
        {
          "output_type": "display_data",
          "data": {
            "image/png": "[encoded data removed]",
            "text/plain": [
              "<Figure size 432x288 with 1 Axes>"
            ]
          },
          "metadata": {
            "tags": [],
            "needs_background": "light"
          }
        },
        {
          "output_type": "stream",
          "text": [
            "========== max pooling image ==========\n",
            "\n",
            "\n"
          ],
          "name": "stdout"
        },
        {
          "output_type": "display_data",
          "data": {
            "image/png": "[encoded data removed]",
            "text/plain": [
              "<Figure size 432x288 with 1 Axes>"
            ]
          },
          "metadata": {
            "tags": [],
            "needs_background": "light"
          }
        },
        {
          "output_type": "stream",
          "text": [
            "========== convolution image ==========\n"
          ],
          "name": "stdout"
        },
        {
          "output_type": "display_data",
          "data": {
            "image/png": "[encoded data removed]",
            "text/plain": [
              "<Figure size 432x288 with 1 Axes>"
            ]
          },
          "metadata": {
            "tags": [],
            "needs_background": "light"
          }
        },
        {
          "output_type": "stream",
          "text": [
            "========== max pooling image ==========\n",
            "\n",
            "\n"
          ],
          "name": "stdout"
        },
        {
          "output_type": "display_data",
          "data": {
            "image/png": "[encoded data removed]",
            "text/plain": [
              "<Figure size 432x288 with 1 Axes>"
            ]
          },
          "metadata": {
            "tags": [],
            "needs_background": "light"
          }
        },
        {
          "output_type": "stream",
          "text": [
            "========== convolution image ==========\n"
          ],
          "name": "stdout"
        },
        {
          "output_type": "display_data",
          "data": {
            "image/png": "[encoded data removed]",
            "text/plain": [
              "<Figure size 432x288 with 1 Axes>"
            ]
          },
          "metadata": {
            "tags": [],
            "needs_background": "light"
          }
        },
        {
          "output_type": "stream",
          "text": [
            "========== max pooling image ==========\n",
            "\n",
            "\n"
          ],
          "name": "stdout"
        }
      ]
    },
    {
      "cell_type": "code",
      "metadata": {
        "id": "moFSMfFoAdEV"
      },
      "source": [
        ""
      ],
      "execution_count": null,
      "outputs": []
    }
  ]
}